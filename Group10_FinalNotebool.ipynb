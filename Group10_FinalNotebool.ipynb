{
  "cells": [
    {
      "cell_type": "markdown",
      "metadata": {
        "id": "JzZ3uXmRRXEw"
      },
      "source": [
        "<h1>Group 10 </h1>\n",
        "<ul>\n",
        "<li> Trần Trọng Nhân  - 21110790 </li>\n",
        "<li> Đặng Trung Phương - 21110792 </li>\n",
        "<li> Nguyễn Phước Trường - 21110809 </li>\n",
        "<li> Cao Thái Đạt - 21110762 </li>\n",
        "</ul>\n"
      ]
    },
    {
      "cell_type": "markdown",
      "metadata": {
        "id": "n5AB--FfSRW4"
      },
      "source": [
        "# Import libraries"
      ]
    },
    {
      "cell_type": "code",
      "execution_count": null,
      "metadata": {
        "execution": {
          "iopub.execute_input": "2024-05-06T15:11:50.980595Z",
          "iopub.status.busy": "2024-05-06T15:11:50.980273Z",
          "iopub.status.idle": "2024-05-06T15:12:03.112632Z",
          "shell.execute_reply": "2024-05-06T15:12:03.111815Z",
          "shell.execute_reply.started": "2024-05-06T15:11:50.980569Z"
        },
        "id": "GkcrTpbpAvFj",
        "outputId": "14da9697-2308-4704-c6f5-77819e6beaf2",
        "trusted": true
      },
      "outputs": [],
      "source": [
        "import tensorflow as tf\n",
        "import matplotlib.pyplot as plt\n",
        "from tensorflow.keras.models import Sequential, Model\n",
        "from tensorflow.keras.layers import Reshape, Activation, Conv2D, Input, MaxPooling2D, BatchNormalization, Flatten, Dense, Lambda, LeakyReLU, concatenate\n",
        "from tensorflow.keras.callbacks import EarlyStopping, ModelCheckpoint, TensorBoard\n",
        "from tensorflow.keras.optimizers import SGD, Adam, RMSprop\n",
        "import tensorflow.keras.backend as K\n",
        "import tensorflow as tf\n",
        "import os\n",
        "import xml.etree.ElementTree as ET\n"
      ]
    },
    {
      "cell_type": "markdown",
      "metadata": {
        "id": "z0_h8kTGfbP4"
      },
      "source": [
        "## Data Preprocessing\n"
      ]
    },
    {
      "cell_type": "code",
      "execution_count": null,
      "metadata": {
        "colab": {
          "base_uri": "https://localhost:8080/",
          "height": 204
        },
        "execution": {
          "iopub.execute_input": "2024-05-06T15:12:03.114738Z",
          "iopub.status.busy": "2024-05-06T15:12:03.114248Z",
          "iopub.status.idle": "2024-05-06T15:12:12.063716Z",
          "shell.execute_reply": "2024-05-06T15:12:12.062510Z",
          "shell.execute_reply.started": "2024-05-06T15:12:03.114713Z"
        },
        "id": "G2Lw77yYM1lF",
        "outputId": "7dec2ba8-e2f9-41e1-da4e-4c4b46ac2f7f",
        "trusted": true
      },
      "outputs": [],
      "source": [
        "!wget http://host.robots.ox.ac.uk/pascal/VOC/voc2012/VOCtrainval_11-May-2012.tar"
      ]
    },
    {
      "cell_type": "code",
      "execution_count": null,
      "metadata": {
        "execution": {
          "iopub.execute_input": "2024-05-06T15:12:12.065781Z",
          "iopub.status.busy": "2024-05-06T15:12:12.065401Z",
          "iopub.status.idle": "2024-05-06T15:12:17.866485Z",
          "shell.execute_reply": "2024-05-06T15:12:17.865180Z",
          "shell.execute_reply.started": "2024-05-06T15:12:12.065742Z"
        },
        "id": "2TgTUGhz7fji",
        "trusted": true
      },
      "outputs": [],
      "source": [
        "%%capture\n",
        "!tar xvf VOCtrainval_11-May-2012.tar"
      ]
    },
    {
      "cell_type": "markdown",
      "metadata": {
        "id": "DKQz1Q9Nf0tZ"
      },
      "source": [
        "Extract information from dataset folder"
      ]
    },
    {
      "cell_type": "code",
      "execution_count": null,
      "metadata": {
        "execution": {
          "iopub.execute_input": "2024-05-06T15:12:17.870014Z",
          "iopub.status.busy": "2024-05-06T15:12:17.869632Z",
          "iopub.status.idle": "2024-05-06T15:12:17.888255Z",
          "shell.execute_reply": "2024-05-06T15:12:17.887237Z",
          "shell.execute_reply.started": "2024-05-06T15:12:17.869978Z"
        },
        "id": "SQMm2Nm4PwqK",
        "trusted": true
      },
      "outputs": [],
      "source": [
        "def parse_annotation(ann_dir, img_dir, labels=[]):\n",
        "    all_imgs = []\n",
        "    seen_labels = {}\n",
        "\n",
        "    for ann in sorted(os.listdir(ann_dir)):\n",
        "        if \"xml\" not in ann:\n",
        "            continue\n",
        "        img = {'object':[]}\n",
        "\n",
        "        tree = ET.parse(ann_dir + ann)\n",
        "\n",
        "        for elem in tree.iter():\n",
        "            if 'filename' in elem.tag:\n",
        "                path_to_image = img_dir + elem.text\n",
        "                img['filename'] = path_to_image\n",
        "                if not os.path.exists(path_to_image):\n",
        "                    assert False, \"file does not exist!\\n{}\".format(path_to_image)\n",
        "            if 'width' in elem.tag:\n",
        "                img['width'] = int(elem.text)\n",
        "            if 'height' in elem.tag:\n",
        "                img['height'] = int(elem.text)\n",
        "            if 'object' in elem.tag or 'part' in elem.tag:\n",
        "                obj = {}\n",
        "\n",
        "                for attr in list(elem):\n",
        "                    if 'name' in attr.tag:\n",
        "                        obj['name'] = attr.text\n",
        "                        if len(labels) > 0 and obj['name'] not in labels:\n",
        "                            break\n",
        "                        else:\n",
        "                            img['object'] += [obj]\n",
        "                        if obj['name'] in seen_labels:\n",
        "                            seen_labels[obj['name']] += 1\n",
        "                        else:\n",
        "                            seen_labels[obj['name']]  = 1\n",
        "\n",
        "                    if 'bndbox' in attr.tag:\n",
        "                        for dim in list(attr):\n",
        "                            if 'xmin' in dim.tag:\n",
        "                                obj['xmin'] = int(round(float(dim.text)))\n",
        "                            if 'ymin' in dim.tag:\n",
        "                                obj['ymin'] = int(round(float(dim.text)))\n",
        "                            if 'xmax' in dim.tag:\n",
        "                                obj['xmax'] = int(round(float(dim.text)))\n",
        "                            if 'ymax' in dim.tag:\n",
        "                                obj['ymax'] = int(round(float(dim.text)))\n",
        "\n",
        "        if len(img['object']) > 0:\n",
        "            all_imgs += [img]\n",
        "\n",
        "    return all_imgs, seen_labels"
      ]
    },
    {
      "cell_type": "code",
      "execution_count": null,
      "metadata": {
        "colab": {
          "base_uri": "https://localhost:8080/",
          "height": 34
        },
        "execution": {
          "iopub.execute_input": "2024-05-06T15:12:17.889896Z",
          "iopub.status.busy": "2024-05-06T15:12:17.889578Z",
          "iopub.status.idle": "2024-05-06T15:12:22.842322Z",
          "shell.execute_reply": "2024-05-06T15:12:22.841420Z",
          "shell.execute_reply.started": "2024-05-06T15:12:17.889868Z"
        },
        "id": "MdIQURh88K8f",
        "outputId": "29546f27-26b3-49dd-bd3c-6c8d1cbad5d4",
        "trusted": true
      },
      "outputs": [],
      "source": [
        "import numpy as np\n",
        "## Parse annotations\n",
        "train_image_folder = \"VOCdevkit/VOC2012/JPEGImages/\"\n",
        "train_annot_folder = \"VOCdevkit/VOC2012/Annotations/\"\n",
        "\n",
        "ANCHORS = np.array([1.07709888,  1.78171903,\n",
        "                    2.71054693,  5.12469308,\n",
        "                   10.47181473, 10.09646365,\n",
        "                    5.48531347,  8.11011331]) # k_mean cluster\n",
        "\n",
        "LABELS = ['aeroplane',  'bicycle', 'bird',  'boat',      'bottle',\n",
        "          'bus',        'car',      'cat',  'chair',     'cow',\n",
        "          'diningtable','dog',    'horse',  'motorbike', 'person',\n",
        "          'pottedplant','sheep',  'sofa',   'train',   'tvmonitor']\n",
        "\n",
        "train_image, seen_train_labels = parse_annotation(train_annot_folder,train_image_folder, labels=LABELS)\n",
        "print(\"N train = {}\".format(len(train_image)))"
      ]
    },
    {
      "cell_type": "markdown",
      "metadata": {
        "id": "1q_y1BrnSldi"
      },
      "source": [
        "Continue, we will create a class for normalize the image and scale it base on the orginal height and width to the desire input model which is 416x416x3"
      ]
    },
    {
      "cell_type": "code",
      "execution_count": null,
      "metadata": {
        "execution": {
          "iopub.execute_input": "2024-05-06T15:12:22.844207Z",
          "iopub.status.busy": "2024-05-06T15:12:22.843904Z",
          "iopub.status.idle": "2024-05-06T15:12:23.340191Z",
          "shell.execute_reply": "2024-05-06T15:12:23.339201Z",
          "shell.execute_reply.started": "2024-05-06T15:12:22.844181Z"
        },
        "id": "NXtp623t9X6s",
        "trusted": true
      },
      "outputs": [],
      "source": [
        "import copy\n",
        "import cv2\n",
        "\n",
        "def normalize(image):\n",
        "    return image / 255.\n",
        "\n",
        "class ImageReader(object):\n",
        "    def __init__(self,IMAGE_H,IMAGE_W, norm=None):\n",
        "        self.IMAGE_H = IMAGE_H\n",
        "        self.IMAGE_W = IMAGE_W\n",
        "        self.norm    = norm\n",
        "\n",
        "    def encode_core(self,image, reorder_rgb=True):\n",
        "        image = cv2.resize(image, (self.IMAGE_H, self.IMAGE_W))\n",
        "        if reorder_rgb:\n",
        "            image = image[:,:,::-1]\n",
        "        if self.norm is not None:\n",
        "            image = self.norm(image)\n",
        "        return(image)\n",
        "\n",
        "    def fit(self,train_instance):\n",
        "        '''\n",
        "        read in and resize the image, annotations are resized accordingly.\n",
        "\n",
        "        -- Input --\n",
        "\n",
        "        train_instance : dictionary containing filename, height, width and object\n",
        "\n",
        "        {'filename': '../VOCdevkit/VOC2012/JPEGImages/2008_000054.jpg',\n",
        "         'height':   333,\n",
        "         'width':    500,\n",
        "         'object': [{'name': 'bird',\n",
        "                     'xmax': 318,\n",
        "                     'xmin': 284,\n",
        "                     'ymax': 184,\n",
        "                     'ymin': 100},\n",
        "                    {'name': 'bird',\n",
        "                     'xmax': 198,\n",
        "                     'xmin': 112,\n",
        "                     'ymax': 209,\n",
        "                     'ymin': 146}]\n",
        "        }\n",
        "\n",
        "        '''\n",
        "        if not isinstance(train_instance,dict):\n",
        "            train_instance = {'filename':train_instance}\n",
        "\n",
        "        image_name = train_instance['filename']\n",
        "        image = cv2.imread(image_name)\n",
        "        h, w, c = image.shape\n",
        "        if image is None: print('Cannot find ', image_name)\n",
        "\n",
        "        image = self.encode_core(image, reorder_rgb=True)\n",
        "\n",
        "        if \"object\" in train_instance.keys():\n",
        "\n",
        "            all_objs = copy.deepcopy(train_instance['object'])\n",
        "\n",
        "            for obj in all_objs:\n",
        "                for attr in ['xmin', 'xmax']:\n",
        "                    obj[attr] = int(obj[attr] * float(self.IMAGE_W) / w)\n",
        "                    obj[attr] = max(min(obj[attr], self.IMAGE_W), 0)\n",
        "\n",
        "                for attr in ['ymin', 'ymax']:\n",
        "                    obj[attr] = int(obj[attr] * float(self.IMAGE_H) / h)\n",
        "                    obj[attr] = max(min(obj[attr], self.IMAGE_H), 0)\n",
        "        else:\n",
        "            return image\n",
        "        return image, all_objs"
      ]
    },
    {
      "cell_type": "markdown",
      "metadata": {
        "id": "kFEeAjFglLSg"
      },
      "source": [
        "ImageReader Demo"
      ]
    },
    {
      "cell_type": "code",
      "execution_count": null,
      "metadata": {
        "colab": {
          "base_uri": "https://localhost:8080/",
          "height": 434
        },
        "execution": {
          "iopub.execute_input": "2024-05-06T15:12:23.341742Z",
          "iopub.status.busy": "2024-05-06T15:12:23.341397Z",
          "iopub.status.idle": "2024-05-06T15:12:24.080073Z",
          "shell.execute_reply": "2024-05-06T15:12:24.079208Z",
          "shell.execute_reply.started": "2024-05-06T15:12:23.341710Z"
        },
        "id": "wyV-zwPU9cio",
        "outputId": "b6fd8ac6-48de-434c-a580-3669460b7792",
        "trusted": true
      },
      "outputs": [],
      "source": [
        "\n",
        "\n",
        "print(\"*\"*30)\n",
        "print(\"Input\")\n",
        "timage = train_image[0]\n",
        "for key, v in timage.items():\n",
        "    print(\"  {}: {}\".format(key,v))\n",
        "print(\"*\"*30)\n",
        "print(\"Output\")\n",
        "inputEncoder = ImageReader(IMAGE_H=416,IMAGE_W=416, norm=normalize)\n",
        "image, all_objs = inputEncoder.fit(timage)\n",
        "print(\"          {}\".format(all_objs))\n",
        "plt.imshow(image)\n",
        "plt.title(\"image.shape={}\".format(image.shape))\n",
        "plt.show()"
      ]
    },
    {
      "cell_type": "markdown",
      "metadata": {
        "id": "q-ywvumMlVP_"
      },
      "source": [
        " We will create function BestAnchorBoxFinder to find the best anchor ( highest iou )"
      ]
    },
    {
      "cell_type": "code",
      "execution_count": null,
      "metadata": {
        "execution": {
          "iopub.execute_input": "2024-05-06T15:12:24.081638Z",
          "iopub.status.busy": "2024-05-06T15:12:24.081361Z",
          "iopub.status.idle": "2024-05-06T15:12:24.096532Z",
          "shell.execute_reply": "2024-05-06T15:12:24.095607Z",
          "shell.execute_reply.started": "2024-05-06T15:12:24.081614Z"
        },
        "id": "sEStgd47P3tQ",
        "trusted": true
      },
      "outputs": [],
      "source": [
        "class BestAnchorBoxFinder(object):\n",
        "    def __init__(self, ANCHORS):\n",
        "        '''\n",
        "        ANCHORS: a np.array of even number length e.g.\n",
        "\n",
        "        _ANCHORS = [4,2, ##  width=4, height=2,  flat large anchor box\n",
        "                    2,4, ##  width=2, height=4,  tall large anchor box\n",
        "                    1,1] ##  width=1, height=1,  small anchor box\n",
        "        '''\n",
        "        self.anchors = [BoundBox(0, 0, ANCHORS[2*i], ANCHORS[2*i+1])\n",
        "                        for i in range(int(len(ANCHORS)//2))]\n",
        "\n",
        "    def _interval_overlap(self,interval_a, interval_b):\n",
        "        x1, x2 = interval_a\n",
        "        x3, x4 = interval_b\n",
        "        if x3 < x1:\n",
        "            if x4 < x1:\n",
        "                return 0\n",
        "            else:\n",
        "                return min(x2,x4) - x1\n",
        "        else:\n",
        "            if x2 < x3:\n",
        "                 return 0\n",
        "            else:\n",
        "                return min(x2,x4) - x3\n",
        "\n",
        "    def bbox_iou(self,box1, box2):\n",
        "        intersect_w = self._interval_overlap([box1.xmin, box1.xmax], [box2.xmin, box2.xmax])\n",
        "        intersect_h = self._interval_overlap([box1.ymin, box1.ymax], [box2.ymin, box2.ymax])\n",
        "\n",
        "        intersect = intersect_w * intersect_h\n",
        "\n",
        "        w1, h1 = box1.xmax-box1.xmin, box1.ymax-box1.ymin\n",
        "        w2, h2 = box2.xmax-box2.xmin, box2.ymax-box2.ymin\n",
        "\n",
        "        union = w1*h1 + w2*h2 - intersect\n",
        "\n",
        "        return float(intersect) / union\n",
        "\n",
        "    def find(self,center_w, center_h):\n",
        "        # find the anchor that best predicts this box\n",
        "        best_anchor = -1\n",
        "        max_iou     = -1\n",
        "        shifted_box = BoundBox(0, 0,center_w, center_h)\n",
        "\n",
        "        for i in range(len(self.anchors)):\n",
        "            anchor = self.anchors[i]\n",
        "            iou    = self.bbox_iou(shifted_box, anchor)\n",
        "            if max_iou < iou:\n",
        "                best_anchor = i\n",
        "                max_iou     = iou\n",
        "        return(best_anchor,max_iou)\n",
        "\n",
        "\n",
        "class BoundBox:\n",
        "    def __init__(self, xmin, ymin, xmax, ymax, confidence=None,classes=None):\n",
        "        self.xmin, self.ymin = xmin, ymin\n",
        "        self.xmax, self.ymax = xmax, ymax\n",
        "\n",
        "        self.confidence      = confidence\n",
        "\n",
        "        self.set_class(classes)\n",
        "\n",
        "    def set_class(self,classes):\n",
        "        self.classes = classes\n",
        "        self.label   = np.argmax(self.classes)\n",
        "\n",
        "    def get_label(self):\n",
        "        return(self.label)\n",
        "\n",
        "    def get_score(self):\n",
        "        return(self.classes[self.label])"
      ]
    },
    {
      "cell_type": "code",
      "execution_count": null,
      "metadata": {
        "colab": {
          "base_uri": "https://localhost:8080/",
          "height": 425
        },
        "execution": {
          "iopub.execute_input": "2024-05-06T15:12:24.098315Z",
          "iopub.status.busy": "2024-05-06T15:12:24.097918Z",
          "iopub.status.idle": "2024-05-06T15:12:24.111973Z",
          "shell.execute_reply": "2024-05-06T15:12:24.111053Z",
          "shell.execute_reply.started": "2024-05-06T15:12:24.098284Z"
        },
        "id": "aG_NmCJf9xoj",
        "outputId": "b4bbeb9b-2d0f-4490-ec64-e45b0e818fa8",
        "trusted": true
      },
      "outputs": [],
      "source": [
        "# Reference https://fairyonice.github.io/Part_1_Object_Detection_with_Yolo_for_VOC_2014_data_anchor_box_clustering.html\n",
        "_ANCHORS01 = np.array([0.08285376, 0.13705531,\n",
        "                       0.20850361, 0.39420716,\n",
        "                       0.80552421, 0.77665105,\n",
        "                       0.42194719, 0.62385487])\n",
        "print(\"..\"*40)\n",
        "print(\"The three example anchor boxes:\")\n",
        "count = 0\n",
        "for i in range(0,len(_ANCHORS01),2):\n",
        "    print(\"anchor box index={}, w={}, h={}\".format(count,_ANCHORS01[i],_ANCHORS01[i+1]))\n",
        "    count += 1\n",
        "print(\"..\"*40)\n",
        "print(\"Allocate bounding box of various width and height into the three anchor boxes:\")\n",
        "babf = BestAnchorBoxFinder(_ANCHORS01)\n",
        "for w in range(1,9,2):\n",
        "    w /= 10.\n",
        "    for h in range(1,9,2):\n",
        "        h /= 10.\n",
        "        best_anchor,max_iou = babf.find(w,h)\n",
        "        print(\"bounding box (w = {}, h = {}) --> best anchor box index = {}, iou = {:03.2f}\".format(\n",
        "            w,h,best_anchor,max_iou))"
      ]
    },
    {
      "cell_type": "code",
      "execution_count": null,
      "metadata": {
        "execution": {
          "iopub.execute_input": "2024-05-06T15:12:24.116679Z",
          "iopub.status.busy": "2024-05-06T15:12:24.116417Z",
          "iopub.status.idle": "2024-05-06T15:12:24.123873Z",
          "shell.execute_reply": "2024-05-06T15:12:24.122997Z",
          "shell.execute_reply.started": "2024-05-06T15:12:24.116657Z"
        },
        "id": "cEc9-GaV99nt",
        "trusted": true
      },
      "outputs": [],
      "source": [
        "def rescale_centerxy(obj,config):\n",
        "    '''\n",
        "    obj:     dictionary containing xmin, xmax, ymin, ymax\n",
        "    config : dictionary containing IMAGE_W, GRID_W, IMAGE_H and GRID_H\n",
        "    '''\n",
        "    center_x = .5*(obj['xmin'] + obj['xmax'])\n",
        "    center_x = center_x / (float(config['IMAGE_W']) / config['GRID_W'])\n",
        "    center_y = .5*(obj['ymin'] + obj['ymax'])\n",
        "    center_y = center_y / (float(config['IMAGE_H']) / config['GRID_H'])\n",
        "    return(center_x,center_y)\n",
        "\n",
        "def rescale_cebterwh(obj,config):\n",
        "    '''\n",
        "    obj:     dictionary containing xmin, xmax, ymin, ymax\n",
        "    config : dictionary containing IMAGE_W, GRID_W, IMAGE_H and GRID_H\n",
        "    '''\n",
        "    # unit: grid cell\n",
        "    center_w = (obj['xmax'] - obj['xmin']) / (float(config['IMAGE_W']) / config['GRID_W'])\n",
        "    # unit: grid cell\n",
        "    center_h = (obj['ymax'] - obj['ymin']) / (float(config['IMAGE_H']) / config['GRID_H'])\n",
        "    return(center_w,center_h)"
      ]
    },
    {
      "cell_type": "code",
      "execution_count": null,
      "metadata": {
        "colab": {
          "base_uri": "https://localhost:8080/",
          "height": 119
        },
        "execution": {
          "iopub.execute_input": "2024-05-06T15:12:24.127212Z",
          "iopub.status.busy": "2024-05-06T15:12:24.126733Z",
          "iopub.status.idle": "2024-05-06T15:12:24.137907Z",
          "shell.execute_reply": "2024-05-06T15:12:24.137116Z",
          "shell.execute_reply.started": "2024-05-06T15:12:24.127188Z"
        },
        "id": "ZZGq9DYx-BYJ",
        "outputId": "9b559bc7-3d77-4c55-db7e-fe7f95237db5",
        "trusted": true
      },
      "outputs": [],
      "source": [
        "obj    = {'xmin': 150, 'ymin': 84, 'xmax': 300, 'ymax': 294}\n",
        "config = {\"IMAGE_W\":416,\"IMAGE_H\":416,\"GRID_W\":13,\"GRID_H\":13}\n",
        "center_x, center_y = rescale_centerxy(obj,config)\n",
        "center_w, center_h = rescale_cebterwh(obj,config)\n",
        "\n",
        "print(\"cebter_x abd cebter_w should range between 0 and {}\".format(config[\"GRID_W\"]))\n",
        "print(\"cebter_y abd cebter_h should range between 0 and {}\".format(config[\"GRID_H\"]))\n",
        "\n",
        "print(\"center_x = {:06.3f} range between 0 and {}\".format(center_x, config[\"GRID_W\"]))\n",
        "print(\"center_y = {:06.3f} range between 0 and {}\".format(center_y, config[\"GRID_H\"]))\n",
        "print(\"center_w = {:06.3f} range between 0 and {}\".format(center_w, config[\"GRID_W\"]))\n",
        "print(\"center_h = {:06.3f} range between 0 and {}\".format(center_h, config[\"GRID_H\"]))"
      ]
    },
    {
      "cell_type": "markdown",
      "metadata": {
        "id": "VPAyBhw5RVVa"
      },
      "source": [
        "### Custome Grenerator"
      ]
    },
    {
      "cell_type": "code",
      "execution_count": null,
      "metadata": {
        "execution": {
          "iopub.execute_input": "2024-05-06T15:12:24.139595Z",
          "iopub.status.busy": "2024-05-06T15:12:24.139319Z",
          "iopub.status.idle": "2024-05-06T15:12:24.163931Z",
          "shell.execute_reply": "2024-05-06T15:12:24.162981Z",
          "shell.execute_reply.started": "2024-05-06T15:12:24.139567Z"
        },
        "id": "jIXqyjU1-Hnk",
        "trusted": true
      },
      "outputs": [],
      "source": [
        "from tensorflow.keras.utils import Sequence\n",
        "\n",
        "class SimpleBatchGenerator(Sequence):\n",
        "    def __init__(self, images, config, norm=None, shuffle=True):\n",
        "        self.config = config\n",
        "        self.config[\"BOX\"] = int(len(self.config['ANCHORS'])/2)\n",
        "        self.config[\"CLASS\"] = len(self.config['LABELS'])\n",
        "        self.images = images\n",
        "        self.bestAnchorBoxFinder = BestAnchorBoxFinder(config['ANCHORS'])\n",
        "        self.imageReader = ImageReader(config['IMAGE_H'],config['IMAGE_W'],norm=norm)\n",
        "        self.shuffle = shuffle\n",
        "        if self.shuffle:\n",
        "            np.random.shuffle(self.images)\n",
        "\n",
        "    def __len__(self):\n",
        "        return int(np.ceil(float(len(self.images))/self.config['BATCH_SIZE']))\n",
        "\n",
        "    def __getitem__(self, idx):\n",
        "\n",
        "        l_bound = idx*self.config['BATCH_SIZE']\n",
        "        r_bound = (idx+1)*self.config['BATCH_SIZE']\n",
        "\n",
        "        if r_bound > len(self.images):\n",
        "            r_bound = len(self.images)\n",
        "            l_bound = r_bound - self.config['BATCH_SIZE']\n",
        "\n",
        "        instance_count = 0\n",
        "\n",
        "\n",
        "        x_batch = np.zeros((r_bound - l_bound, self.config['IMAGE_H'], self.config['IMAGE_W'], 3))\n",
        "        b_batch = np.zeros((r_bound - l_bound, 1     , 1     , 1    ,  self.config['TRUE_BOX_BUFFER'], 4))\n",
        "        y_batch = np.zeros((r_bound - l_bound, self.config['GRID_H'],  self.config['GRID_W'], self.config['BOX'], 4+1+len(self.config['LABELS'])))\n",
        "\n",
        "        for train_instance in self.images[l_bound:r_bound]:\n",
        "\n",
        "            img, all_objs = self.imageReader.fit(train_instance)\n",
        "\n",
        "            true_box_index = 0\n",
        "\n",
        "            for obj in all_objs:\n",
        "                if obj['xmax'] > obj['xmin'] and obj['ymax'] > obj['ymin'] and obj['name'] in self.config['LABELS']:\n",
        "                    center_x, center_y = rescale_centerxy(obj,self.config)\n",
        "\n",
        "                    grid_x = int(np.floor(center_x))\n",
        "                    grid_y = int(np.floor(center_y))\n",
        "\n",
        "                    if grid_x < self.config['GRID_W'] and grid_y < self.config['GRID_H']:\n",
        "                        obj_indx  = self.config['LABELS'].index(obj['name'])\n",
        "                        center_w, center_h = rescale_cebterwh(obj,self.config)\n",
        "                        box = [center_x, center_y, center_w, center_h]\n",
        "                        best_anchor,max_iou = self.bestAnchorBoxFinder.find(center_w, center_h)\n",
        "\n",
        "\n",
        "                        y_batch[instance_count, grid_y, grid_x, best_anchor, 0:4] = box\n",
        "                        y_batch[instance_count, grid_y, grid_x, best_anchor, 4  ] = 1.\n",
        "                        y_batch[instance_count, grid_y, grid_x, best_anchor, 5+obj_indx] = 1\n",
        "\n",
        "\n",
        "                        b_batch[instance_count, 0, 0, 0, true_box_index] = box\n",
        "\n",
        "                        true_box_index += 1\n",
        "                        true_box_index = true_box_index % self.config['TRUE_BOX_BUFFER']\n",
        "\n",
        "            x_batch[instance_count] = img\n",
        "            instance_count += 1\n",
        "        return (x_batch, b_batch), y_batch\n",
        "\n",
        "    def on_epoch_end(self):\n",
        "        if self.shuffle:\n",
        "            np.random.shuffle(self.images)"
      ]
    },
    {
      "cell_type": "code",
      "execution_count": null,
      "metadata": {
        "colab": {
          "base_uri": "https://localhost:8080/",
          "height": 51
        },
        "execution": {
          "iopub.execute_input": "2024-05-06T15:12:24.165882Z",
          "iopub.status.busy": "2024-05-06T15:12:24.165275Z",
          "iopub.status.idle": "2024-05-06T15:12:24.174426Z",
          "shell.execute_reply": "2024-05-06T15:12:24.173484Z",
          "shell.execute_reply.started": "2024-05-06T15:12:24.165849Z"
        },
        "id": "qXiQ0648-NDE",
        "outputId": "2b75b355-0301-4766-85a9-50e5fcd3eb69",
        "trusted": true
      },
      "outputs": [],
      "source": [
        "GRID_H,  GRID_W  = 13 , 13\n",
        "ANCHORS          = _ANCHORS01\n",
        "ANCHORS[::2]     = ANCHORS[::2]*GRID_W\n",
        "ANCHORS[1::2]    = ANCHORS[1::2]*GRID_H\n",
        "ANCHORS"
      ]
    },
    {
      "cell_type": "code",
      "execution_count": null,
      "metadata": {
        "colab": {
          "base_uri": "https://localhost:8080/",
          "height": 68
        },
        "execution": {
          "iopub.execute_input": "2024-05-06T15:12:24.175936Z",
          "iopub.status.busy": "2024-05-06T15:12:24.175587Z",
          "iopub.status.idle": "2024-05-06T15:12:24.368761Z",
          "shell.execute_reply": "2024-05-06T15:12:24.367779Z",
          "shell.execute_reply.started": "2024-05-06T15:12:24.175904Z"
        },
        "id": "-H7Yy1f4-RE-",
        "outputId": "24eec1b4-8582-428e-c1f1-8861ff37c54b",
        "trusted": true
      },
      "outputs": [],
      "source": [
        "IMAGE_H, IMAGE_W = 416, 416\n",
        "BATCH_SIZE       = 16\n",
        "TRUE_BOX_BUFFER  = 50\n",
        "BOX = int(len(ANCHORS)/2)\n",
        "CLASS = len(LABELS)\n",
        "\n",
        "generator_config = {\n",
        "    'IMAGE_H'         : IMAGE_H,\n",
        "    'IMAGE_W'         : IMAGE_W,\n",
        "    'GRID_H'          : GRID_H,\n",
        "    'GRID_W'          : GRID_W,\n",
        "    'BOX'             : BOX,\n",
        "    'LABELS'          : LABELS,\n",
        "    'ANCHORS'         : ANCHORS,\n",
        "    'BATCH_SIZE'      : BATCH_SIZE,\n",
        "    'TRUE_BOX_BUFFER' : TRUE_BOX_BUFFER,\n",
        "}\n",
        "\n",
        "\n",
        "train_batch_generator = SimpleBatchGenerator(train_image, generator_config,\n",
        "                                             norm=normalize, shuffle=True)\n",
        "\n",
        "[x_batch,b_batch],y_batch = train_batch_generator.__getitem__(idx=3)\n",
        "print(\"x_batch: (BATCH_SIZE, IMAGE_H, IMAGE_W, N channels)           = {}\".format(x_batch.shape))\n",
        "print(\"y_batch: (BATCH_SIZE, GRID_H, GRID_W, BOX, 4 + 1 + N classes) = {}\".format(y_batch.shape))\n",
        "print(\"b_batch: (BATCH_SIZE, 1, 1, 1, TRUE_BOX_BUFFER, 4)            = {}\".format(b_batch.shape))"
      ]
    },
    {
      "cell_type": "markdown",
      "metadata": {
        "id": "Igue5gbjyym5"
      },
      "source": [
        "#### Model Define Architecture\n"
      ]
    },
    {
      "cell_type": "code",
      "execution_count": null,
      "metadata": {
        "colab": {
          "base_uri": "https://localhost:8080/",
          "height": 1000
        },
        "execution": {
          "iopub.execute_input": "2024-05-06T15:12:24.379662Z",
          "iopub.status.busy": "2024-05-06T15:12:24.379403Z",
          "iopub.status.idle": "2024-05-06T15:12:25.417938Z",
          "shell.execute_reply": "2024-05-06T15:12:25.417197Z",
          "shell.execute_reply.started": "2024-05-06T15:12:24.379640Z"
        },
        "id": "Z0eGd9X_7ekO",
        "outputId": "4dcf9e3d-f557-4e4e-a298-6decb79d531f",
        "trusted": true
      },
      "outputs": [],
      "source": [
        "def space_to_depth_x2(x):\n",
        "    return tf.nn.space_to_depth(x, block_size=2)\n",
        "\n",
        "input_image = Input(shape=(IMAGE_H, IMAGE_W, 3))\n",
        "true_boxes  = Input(shape=(1, 1, 1, TRUE_BOX_BUFFER , 4))\n",
        "\n",
        "# Layer 1\n",
        "x = Conv2D(32, (3,3), strides=(1,1), padding='same', name='conv_1', use_bias=False)(input_image)\n",
        "x = BatchNormalization(name='norm_1')(x)\n",
        "x = LeakyReLU(alpha=0.1)(x)\n",
        "x = MaxPooling2D(pool_size=(2, 2))(x)\n",
        "\n",
        "# Layer 2\n",
        "x = Conv2D(64, (3,3), strides=(1,1), padding='same', name='conv_2', use_bias=False)(x)\n",
        "x = BatchNormalization(name='norm_2')(x)\n",
        "x = LeakyReLU(alpha=0.1)(x)\n",
        "x = MaxPooling2D(pool_size=(2, 2))(x)\n",
        "\n",
        "# Layer 3\n",
        "x = Conv2D(128, (3,3), strides=(1,1), padding='same', name='conv_3', use_bias=False)(x)\n",
        "x = BatchNormalization(name='norm_3')(x)\n",
        "x = LeakyReLU(alpha=0.1)(x)\n",
        "\n",
        "# Layer 4\n",
        "x = Conv2D(64, (1,1), strides=(1,1), padding='same', name='conv_4', use_bias=False)(x)\n",
        "x = BatchNormalization(name='norm_4')(x)\n",
        "x = LeakyReLU(alpha=0.1)(x)\n",
        "\n",
        "# Layer 5\n",
        "x = Conv2D(128, (3,3), strides=(1,1), padding='same', name='conv_5', use_bias=False)(x)\n",
        "x = BatchNormalization(name='norm_5')(x)\n",
        "x = LeakyReLU(alpha=0.1)(x)\n",
        "x = MaxPooling2D(pool_size=(2, 2))(x)\n",
        "\n",
        "# Layer 6\n",
        "x = Conv2D(256, (3,3), strides=(1,1), padding='same', name='conv_6', use_bias=False)(x)\n",
        "x = BatchNormalization(name='norm_6')(x)\n",
        "x = LeakyReLU(alpha=0.1)(x)\n",
        "\n",
        "# Layer 7\n",
        "x = Conv2D(128, (1,1), strides=(1,1), padding='same', name='conv_7', use_bias=False)(x)\n",
        "x = BatchNormalization(name='norm_7')(x)\n",
        "x = LeakyReLU(alpha=0.1)(x)\n",
        "\n",
        "# Layer 8\n",
        "x = Conv2D(256, (3,3), strides=(1,1), padding='same', name='conv_8', use_bias=False)(x)\n",
        "x = BatchNormalization(name='norm_8')(x)\n",
        "x = LeakyReLU(alpha=0.1)(x)\n",
        "x = MaxPooling2D(pool_size=(2, 2))(x)\n",
        "\n",
        "# Layer 9\n",
        "x = Conv2D(512, (3,3), strides=(1,1), padding='same', name='conv_9', use_bias=False)(x)\n",
        "x = BatchNormalization(name='norm_9')(x)\n",
        "x = LeakyReLU(alpha=0.1)(x)\n",
        "\n",
        "# Layer 10\n",
        "x = Conv2D(256, (1,1), strides=(1,1), padding='same', name='conv_10', use_bias=False)(x)\n",
        "x = BatchNormalization(name='norm_10')(x)\n",
        "x = LeakyReLU(alpha=0.1)(x)\n",
        "\n",
        "# Layer 11\n",
        "x = Conv2D(512, (3,3), strides=(1,1), padding='same', name='conv_11', use_bias=False)(x)\n",
        "x = BatchNormalization(name='norm_11')(x)\n",
        "x = LeakyReLU(alpha=0.1)(x)\n",
        "\n",
        "# Layer 12\n",
        "x = Conv2D(256, (1,1), strides=(1,1), padding='same', name='conv_12', use_bias=False)(x)\n",
        "x = BatchNormalization(name='norm_12')(x)\n",
        "x = LeakyReLU(alpha=0.1)(x)\n",
        "\n",
        "# Layer 13\n",
        "x = Conv2D(512, (3,3), strides=(1,1), padding='same', name='conv_13', use_bias=False)(x)\n",
        "x = BatchNormalization(name='norm_13')(x)\n",
        "x = LeakyReLU(alpha=0.1)(x)\n",
        "\n",
        "skip_connection = x\n",
        "\n",
        "x = MaxPooling2D(pool_size=(2, 2))(x)\n",
        "\n",
        "# Layer 14\n",
        "x = Conv2D(1024, (3,3), strides=(1,1), padding='same', name='conv_14', use_bias=False)(x)\n",
        "x = BatchNormalization(name='norm_14')(x)\n",
        "x = LeakyReLU(alpha=0.1)(x)\n",
        "\n",
        "# Layer 15\n",
        "x = Conv2D(512, (1,1), strides=(1,1), padding='same', name='conv_15', use_bias=False)(x)\n",
        "x = BatchNormalization(name='norm_15')(x)\n",
        "x = LeakyReLU(alpha=0.1)(x)\n",
        "\n",
        "# Layer 16\n",
        "x = Conv2D(1024, (3,3), strides=(1,1), padding='same', name='conv_16', use_bias=False)(x)\n",
        "x = BatchNormalization(name='norm_16')(x)\n",
        "x = LeakyReLU(alpha=0.1)(x)\n",
        "\n",
        "# Layer 17\n",
        "x = Conv2D(512, (1,1), strides=(1,1), padding='same', name='conv_17', use_bias=False)(x)\n",
        "x = BatchNormalization(name='norm_17')(x)\n",
        "x = LeakyReLU(alpha=0.1)(x)\n",
        "\n",
        "# Layer 18\n",
        "x = Conv2D(1024, (3,3), strides=(1,1), padding='same', name='conv_18', use_bias=False)(x)\n",
        "x = BatchNormalization(name='norm_18')(x)\n",
        "x = LeakyReLU(alpha=0.1)(x)\n",
        "\n",
        "# Layer 19\n",
        "x = Conv2D(1024, (3,3), strides=(1,1), padding='same', name='conv_19', use_bias=False)(x)\n",
        "x = BatchNormalization(name='norm_19')(x)\n",
        "x = LeakyReLU(alpha=0.1)(x)\n",
        "\n",
        "# Layer 20\n",
        "x = Conv2D(1024, (3,3), strides=(1,1), padding='same', name='conv_20', use_bias=False)(x)\n",
        "x = BatchNormalization(name='norm_20')(x)\n",
        "x = LeakyReLU(alpha=0.1)(x)\n",
        "\n",
        "# Layer 21\n",
        "skip_connection = Conv2D(64, (1,1), strides=(1,1), padding='same', name='conv_21', use_bias=False)(skip_connection)\n",
        "skip_connection = BatchNormalization(name='norm_21')(skip_connection)\n",
        "skip_connection = LeakyReLU(alpha=0.1)(skip_connection)\n",
        "skip_connection = Lambda(space_to_depth_x2)(skip_connection)\n",
        "\n",
        "x = concatenate([skip_connection, x])\n",
        "\n",
        "# Layer 22\n",
        "x = Conv2D(1024, (3,3), strides=(1,1), padding='same', name='conv_22', use_bias=False)(x)\n",
        "x = BatchNormalization(name='norm_22')(x)\n",
        "x = LeakyReLU(alpha=0.1)(x)\n",
        "\n",
        "# Layer 23\n",
        "x = Conv2D(BOX * (4 + 1 + CLASS), (1,1), strides=(1,1), padding='same', name='conv_23')(x)\n",
        "output = Reshape((GRID_H, GRID_W, BOX, 4 + 1 + CLASS))(x)\n",
        "\n",
        "output = Lambda(lambda args: args[0])([output, true_boxes])\n",
        "\n",
        "model = Model([input_image, true_boxes], output)\n",
        "#model.summary()"
      ]
    },
    {
      "cell_type": "markdown",
      "metadata": {
        "id": "q9_hD2d445zw"
      },
      "source": [
        "### Define the loss function\n",
        "\n"
      ]
    },
    {
      "cell_type": "code",
      "execution_count": null,
      "metadata": {
        "execution": {
          "iopub.execute_input": "2024-05-06T15:12:25.419380Z",
          "iopub.status.busy": "2024-05-06T15:12:25.419084Z",
          "iopub.status.idle": "2024-05-06T15:12:25.423649Z",
          "shell.execute_reply": "2024-05-06T15:12:25.422654Z",
          "shell.execute_reply.started": "2024-05-06T15:12:25.419354Z"
        },
        "id": "hGMVgP3CcEsy",
        "trusted": true
      },
      "outputs": [],
      "source": [
        "LAMBDA_NO_OBJECT = 1.0\n",
        "LAMBDA_OBJECT    = 5.0\n",
        "LAMBDA_COORD     = 1.0\n",
        "LAMBDA_CLASS     = 1.0"
      ]
    },
    {
      "cell_type": "code",
      "execution_count": null,
      "metadata": {
        "execution": {
          "iopub.execute_input": "2024-05-06T15:12:25.425668Z",
          "iopub.status.busy": "2024-05-06T15:12:25.425183Z",
          "iopub.status.idle": "2024-05-06T15:12:25.433026Z",
          "shell.execute_reply": "2024-05-06T15:12:25.432106Z",
          "shell.execute_reply.started": "2024-05-06T15:12:25.425634Z"
        },
        "id": "MN-oFCQolCUi",
        "trusted": true
      },
      "outputs": [],
      "source": [
        "def get_cell_grid(GRID_W,GRID_H,BATCH_SIZE,BOX):\n",
        "    '''\n",
        "    Helper function to assure that the bounding box x and y are in the grid cell scale\n",
        "    == output ==\n",
        "    for any i=0,1..,batch size - 1\n",
        "    output[i,5,3,:,:] = array([[3., 5.],\n",
        "                               [3., 5.],\n",
        "                               [3., 5.]], dtype=float32)\n",
        "    '''\n",
        "    ## cell_x.shape = (1, 13, 13, 1, 1)\n",
        "    ## cell_x[:,i,j,:] = [[[j]]]\n",
        "    cell_x = tf.cast(tf.reshape(tf.tile(tf.range(GRID_W), [GRID_H]), (1, GRID_H, GRID_W, 1, 1)), tf.float32)\n",
        "    ## cell_y.shape = (1, 13, 13, 1, 1)\n",
        "    ## cell_y[:,i,j,:] = [[[i]]]\n",
        "    cell_y = tf.transpose(cell_x, (0,2,1,3,4))\n",
        "    ## cell_gird.shape = (16, 13, 13, 5, 2)\n",
        "    ## for any n, k, i, j\n",
        "    ##    cell_grid[n, i, j, anchor, k] = j when k = 0\n",
        "    ## for any n, k, i, j\n",
        "    ##    cell_grid[n, i, j, anchor, k] = i when k = 1\n",
        "    cell_grid = tf.tile(tf.concat([cell_x,cell_y], -1), [BATCH_SIZE, 1, 1, BOX, 1])\n",
        "    return(cell_grid)"
      ]
    },
    {
      "cell_type": "code",
      "execution_count": null,
      "metadata": {
        "execution": {
          "iopub.execute_input": "2024-05-06T15:12:25.434685Z",
          "iopub.status.busy": "2024-05-06T15:12:25.434251Z",
          "iopub.status.idle": "2024-05-06T15:12:25.445667Z",
          "shell.execute_reply": "2024-05-06T15:12:25.444815Z",
          "shell.execute_reply.started": "2024-05-06T15:12:25.434653Z"
        },
        "id": "ZfJyn474BeXp",
        "trusted": true
      },
      "outputs": [],
      "source": [
        "def adjust_scale_prediction(y_pred, cell_grid, ANCHORS):\n",
        "    \"\"\"\n",
        "        Adjust prediction\n",
        "\n",
        "        == input ==\n",
        "\n",
        "        y_pred : takes any real values\n",
        "                 tensor of shape = (N batch, NGrid h, NGrid w, NAnchor, 4 + 1 + N class)\n",
        "\n",
        "        ANCHORS : list containing width and height specializaiton of anchor box\n",
        "        == output ==\n",
        "\n",
        "        pred_box_xy : shape = (N batch, N grid x, N grid y, N anchor, 2), contianing [center_y, center_x] rangining [0,0]x[grid_H-1,grid_W-1]\n",
        "          pred_box_xy[irow,igrid_h,igrid_w,ianchor,0] =  center_x\n",
        "          pred_box_xy[irow,igrid_h,igrid_w,ianchor,1] =  center_1\n",
        "\n",
        "          calculation process:\n",
        "          tf.sigmoid(y_pred[...,:2]) : takes values between 0 and 1\n",
        "          tf.sigmoid(y_pred[...,:2]) + cell_grid : takes values between 0 and grid_W - 1 for x coordinate\n",
        "                                                   takes values between 0 and grid_H - 1 for y coordinate\n",
        "\n",
        "        pred_Box_wh : shape = (N batch, N grid h, N grid w, N anchor, 2), containing width and height, rangining [0,0]x[grid_H-1,grid_W-1]\n",
        "\n",
        "        pred_box_conf : shape = (N batch, N grid h, N grid w, N anchor, 1), containing confidence to range between 0 and 1\n",
        "\n",
        "        pred_box_class : shape = (N batch, N grid h, N grid w, N anchor, N class), containing\n",
        "    \"\"\"\n",
        "    BOX = int(len(ANCHORS)/2)\n",
        "    ## cell_grid is of the shape of\n",
        "\n",
        "    ### adjust x and y\n",
        "    # the bounding box bx and by are rescaled to range between 0 and 1 for given gird.\n",
        "    # Since there are BOX x BOX grids, we rescale each bx and by to range between 0 to BOX + 1\n",
        "    pred_box_xy = tf.sigmoid(y_pred[..., :2]) + cell_grid # bx, by\n",
        "\n",
        "    ### adjust w and h\n",
        "    # exp to make width and height positive\n",
        "    # rescale each grid to make some anchor \"good\" at representing certain shape of bounding box\n",
        "    pred_box_wh = tf.exp(y_pred[..., 2:4]) * np.reshape(ANCHORS,[1,1,1,BOX,2]) # bw, bh\n",
        "\n",
        "    ### adjust confidence\n",
        "    pred_box_conf = tf.sigmoid(y_pred[..., 4])# prob bb\n",
        "\n",
        "    ### adjust class probabilities\n",
        "    pred_box_class = y_pred[..., 5:] # prC1, prC2, ..., prC20\n",
        "\n",
        "    return(pred_box_xy,pred_box_wh,pred_box_conf,pred_box_class)"
      ]
    },
    {
      "cell_type": "code",
      "execution_count": null,
      "metadata": {
        "execution": {
          "iopub.execute_input": "2024-05-06T15:12:25.447306Z",
          "iopub.status.busy": "2024-05-06T15:12:25.446744Z",
          "iopub.status.idle": "2024-05-06T15:12:25.456413Z",
          "shell.execute_reply": "2024-05-06T15:12:25.455367Z",
          "shell.execute_reply.started": "2024-05-06T15:12:25.447281Z"
        },
        "id": "wiJ6nKARZPa4",
        "trusted": true
      },
      "outputs": [],
      "source": [
        "def print_min_max(vec,title):\n",
        "  try:\n",
        "    print(\"{} MIN={:5.2f}, MAX={:5.2f}\".format(\n",
        "        title,np.min(vec),np.max(vec)))\n",
        "  except ValueError:  #raised if `y` is empty.\n",
        "      pass"
      ]
    },
    {
      "cell_type": "code",
      "execution_count": null,
      "metadata": {
        "colab": {
          "base_uri": "https://localhost:8080/",
          "height": 799
        },
        "execution": {
          "iopub.execute_input": "2024-05-06T15:12:25.458431Z",
          "iopub.status.busy": "2024-05-06T15:12:25.458085Z",
          "iopub.status.idle": "2024-05-06T15:12:26.085771Z",
          "shell.execute_reply": "2024-05-06T15:12:26.084918Z",
          "shell.execute_reply.started": "2024-05-06T15:12:25.458401Z"
        },
        "id": "tsewgphodlSh",
        "outputId": "28a07afa-38a0-4f3b-e802-a1c3ae59691e",
        "trusted": true
      },
      "outputs": [],
      "source": [
        "print(\"*\"*30)\n",
        "print(\"prepare inputs\")\n",
        "GRID_W = 13\n",
        "GRID_H = 13\n",
        "BOX    = int(len(ANCHORS)/2)\n",
        "CLASS = len(LABELS)\n",
        "size   = BATCH_SIZE*GRID_W*GRID_H*BOX*(4 + 1 + CLASS)\n",
        "y_pred = np.random.normal(size=size,scale = 10/(GRID_H*GRID_W))\n",
        "y_pred = y_pred.reshape(BATCH_SIZE,GRID_H,GRID_W,BOX,4 + 1 + CLASS)\n",
        "print(\"y_pred before scaling = {}\".format(y_pred.shape))\n",
        "\n",
        "print(\"*\"*30)\n",
        "print(\"define tensor graph\")\n",
        "y_pred_tf = tf.constant(y_pred,dtype=\"float32\")\n",
        "cell_grid = get_cell_grid(GRID_W,GRID_H,BATCH_SIZE,BOX)\n",
        "(pred_box_xy,   pred_box_wh, pred_box_conf, pred_box_class) = adjust_scale_prediction(y_pred_tf,\n",
        "                                                                cell_grid,\n",
        "                                                                ANCHORS)\n",
        "print(\"*\"*30 + \"\\nouput\\n\" + \"*\"*30)\n",
        "\n",
        "print(\"\\npred_box_xy {}\".format(pred_box_xy.shape))\n",
        "\n",
        "for igrid_w in range(pred_box_xy.shape[2]):\n",
        "        print_min_max(pred_box_xy[:,:,igrid_w,:,0],\n",
        "                      \"  bounding box x at iGRID_W={:02.0f}\".format(igrid_w))\n",
        "for igrid_h in range(pred_box_xy.shape[1]):\n",
        "    print_min_max(pred_box_xy[:,igrid_h,:,:,1],\n",
        "                  \"  bounding box y at iGRID_H={:02.0f}\".format(igrid_h))\n",
        "\n",
        "print(\"\\npred_box_wh {}\".format(pred_box_wh.shape))\n",
        "print_min_max(pred_box_wh[:,:,:,:,0],\"  bounding box width \")\n",
        "print_min_max(pred_box_wh[:,:,:,:,1],\"  bounding box height\")\n",
        "\n",
        "print(\"\\npred_box_conf {}\".format(pred_box_conf.shape))\n",
        "print_min_max(pred_box_conf,\"  confidence \")\n",
        "\n",
        "print(\"\\npred_box_class {}\".format(pred_box_class.shape))\n",
        "print_min_max(pred_box_class,\"  class probability\")"
      ]
    },
    {
      "cell_type": "markdown",
      "metadata": {
        "id": "Y9uZgyCZfKLx"
      },
      "source": [
        "We extract the ground truth."
      ]
    },
    {
      "cell_type": "code",
      "execution_count": null,
      "metadata": {
        "execution": {
          "iopub.execute_input": "2024-05-06T15:12:26.087616Z",
          "iopub.status.busy": "2024-05-06T15:12:26.087261Z",
          "iopub.status.idle": "2024-05-06T15:12:26.093991Z",
          "shell.execute_reply": "2024-05-06T15:12:26.093122Z",
          "shell.execute_reply.started": "2024-05-06T15:12:26.087583Z"
        },
        "id": "Yrmit1g3fFsF",
        "trusted": true
      },
      "outputs": [],
      "source": [
        "def extract_ground_truth(y_true):\n",
        "    true_box_xy    = y_true[..., 0:2] # bounding box x, y coordinate in grid cell scale\n",
        "    true_box_wh    = y_true[..., 2:4] # number of cells accross, horizontally and vertically\n",
        "    true_box_conf  = y_true[...,4]    # confidence\n",
        "    true_box_class = tf.argmax(y_true[..., 5:], -1)\n",
        "    return(true_box_xy, true_box_wh, true_box_conf, true_box_class)"
      ]
    },
    {
      "cell_type": "code",
      "execution_count": null,
      "metadata": {
        "colab": {
          "base_uri": "https://localhost:8080/",
          "height": 561
        },
        "execution": {
          "iopub.execute_input": "2024-05-06T15:12:26.095617Z",
          "iopub.status.busy": "2024-05-06T15:12:26.095286Z",
          "iopub.status.idle": "2024-05-06T15:12:26.297723Z",
          "shell.execute_reply": "2024-05-06T15:12:26.296772Z",
          "shell.execute_reply.started": "2024-05-06T15:12:26.095585Z"
        },
        "id": "VxnANwJWfR8j",
        "outputId": "980289b3-ad7c-4ec7-bcdf-cf6571bf8bf6",
        "trusted": true
      },
      "outputs": [],
      "source": [
        "# y_batch is the output of the simpleBatchGenerator.fit()\n",
        "print(\"Input y_batch = {}\".format(y_batch.shape))\n",
        "\n",
        "y_batch_tf = tf.constant(y_batch,dtype=\"float32\")\n",
        "(true_box_xy, true_box_wh,\n",
        "         true_box_conf, true_box_class) = extract_ground_truth(y_batch_tf)\n",
        "\n",
        "print(\"*\"*30 + \"\\nouput\\n\" + \"*\"*30)\n",
        "\n",
        "print(\"\\ntrue_box_xy {}\".format(true_box_xy.shape))\n",
        "for igrid_w in range(true_box_xy.shape[2]):\n",
        "    vec  = true_box_xy[:,:,igrid_w,:,0]\n",
        "    pick = true_box_conf[:,:,igrid_w,:] == 1 ## only pick C_ij = 1\n",
        "    print_min_max(vec[pick],\"  bounding box x at iGRID_W={:02.0f}\".format(igrid_w))\n",
        "\n",
        "for igrid_h in range(true_box_xy.shape[1]):\n",
        "    vec  = true_box_xy[:,igrid_h,:,:,1]\n",
        "    pick = true_box_conf[:,igrid_h,:,:] == 1 ## only pick C_ij = 1\n",
        "    print_min_max(vec[pick],\"  bounding box y at iGRID_H={:02.0f}\".format(igrid_h))\n",
        "\n",
        "print(\"\\ntrue_box_wh {}\".format(true_box_wh.shape))\n",
        "print_min_max(true_box_wh[:,:,:,:,0],\"  bounding box width \")\n",
        "print_min_max(true_box_wh[:,:,:,:,1],\"  bounding box height\")\n",
        "\n",
        "print(\"\\ntrue_box_conf {}\".format(true_box_conf.shape))\n",
        "print(\"  confidence, unique value = {}\".format(np.unique(true_box_conf)))\n",
        "\n",
        "print(\"\\ntrue_box_class {}\".format(true_box_class.shape))\n",
        "print(\"  class index, unique value = {}\".format(np.unique(true_box_class)) )"
      ]
    },
    {
      "cell_type": "code",
      "execution_count": null,
      "metadata": {
        "execution": {
          "iopub.execute_input": "2024-05-06T15:12:26.299285Z",
          "iopub.status.busy": "2024-05-06T15:12:26.298977Z",
          "iopub.status.idle": "2024-05-06T15:12:26.305363Z",
          "shell.execute_reply": "2024-05-06T15:12:26.304305Z",
          "shell.execute_reply.started": "2024-05-06T15:12:26.299260Z"
        },
        "id": "qh3zSaBx0aQk",
        "trusted": true
      },
      "outputs": [],
      "source": [
        "def calc_loss_xywh(true_box_conf, COORD_SCALE, true_box_xy, pred_box_xy, true_box_wh, pred_box_wh):\n",
        "    coord_mask  = tf.expand_dims(true_box_conf, axis=-1) * LAMBDA_COORD\n",
        "    nb_coord_box = tf.reduce_sum(tf.cast(coord_mask > 0.0, tf.float32))\n",
        "\n",
        "    loss_xy = tf.reduce_sum(tf.square(true_box_xy-pred_box_xy) * coord_mask) / (nb_coord_box + 1e-6) / 2.\n",
        "    loss_wh = tf.reduce_sum(tf.square(true_box_wh-pred_box_wh) * coord_mask) / (nb_coord_box + 1e-6) / 2.\n",
        "\n",
        "    return (loss_xy + loss_wh, coord_mask)"
      ]
    },
    {
      "cell_type": "code",
      "execution_count": null,
      "metadata": {
        "colab": {
          "base_uri": "https://localhost:8080/",
          "height": 85
        },
        "execution": {
          "iopub.execute_input": "2024-05-06T15:12:26.307095Z",
          "iopub.status.busy": "2024-05-06T15:12:26.306740Z",
          "iopub.status.idle": "2024-05-06T15:12:26.438015Z",
          "shell.execute_reply": "2024-05-06T15:12:26.437110Z",
          "shell.execute_reply.started": "2024-05-06T15:12:26.307048Z"
        },
        "id": "1izyCG3Lg8DL",
        "outputId": "4a260c42-69d3-4a09-83a3-deb726513bb2",
        "trusted": true
      },
      "outputs": [],
      "source": [
        "LAMBDA_COORD = 1\n",
        "loss_xywh, coord_mask  = calc_loss_xywh(true_box_conf, LAMBDA_COORD, true_box_xy, pred_box_xy,true_box_wh, pred_box_wh)\n",
        "\n",
        "print(\"*\"*30 + \"\\nouput\\n\" + \"*\"*30)\n",
        "\n",
        "print(\"loss_xywh = {:4.3f}\".format(loss_xywh))"
      ]
    },
    {
      "cell_type": "code",
      "execution_count": null,
      "metadata": {
        "execution": {
          "iopub.execute_input": "2024-05-06T15:12:26.439460Z",
          "iopub.status.busy": "2024-05-06T15:12:26.439164Z",
          "iopub.status.idle": "2024-05-06T15:12:26.445756Z",
          "shell.execute_reply": "2024-05-06T15:12:26.444806Z",
          "shell.execute_reply.started": "2024-05-06T15:12:26.439433Z"
        },
        "id": "rS7ETz3O47Tp",
        "trusted": true
      },
      "outputs": [],
      "source": [
        "def calc_loss_class(true_box_conf,CLASS_SCALE, true_box_class,pred_box_class):\n",
        "    '''\n",
        "    == input ==\n",
        "    true_box_conf  : tensor of shape (N batch, N grid h, N grid w, N anchor)\n",
        "    true_box_class : tensor of shape (N batch, N grid h, N grid w, N anchor), containing class index\n",
        "    pred_box_class : tensor of shape (N batch, N grid h, N grid w, N anchor, N class)\n",
        "    CLASS_SCALE    : 1.0\n",
        "\n",
        "    == output ==\n",
        "    class_mask\n",
        "    if object exists in this (grid_cell, anchor) pair and the class object receive nonzero weight\n",
        "        class_mask[iframe,igridy,igridx,ianchor] = 1\n",
        "    else:\n",
        "        0\n",
        "    '''\n",
        "    class_mask   = true_box_conf  * CLASS_SCALE ## L_{i,j}^obj * lambda_class\n",
        "\n",
        "    nb_class_box = tf.reduce_sum(tf.cast(class_mask > 0.0, tf.float32))\n",
        "    loss_class   = tf.nn.sparse_softmax_cross_entropy_with_logits(labels = true_box_class,\n",
        "                                                                  logits = pred_box_class)\n",
        "    loss_class   = tf.reduce_sum(loss_class * class_mask) / (nb_class_box + 1e-6)\n",
        "    return(loss_class)"
      ]
    },
    {
      "cell_type": "code",
      "execution_count": null,
      "metadata": {
        "colab": {
          "base_uri": "https://localhost:8080/",
          "height": 85
        },
        "execution": {
          "iopub.execute_input": "2024-05-06T15:12:26.447158Z",
          "iopub.status.busy": "2024-05-06T15:12:26.446867Z",
          "iopub.status.idle": "2024-05-06T15:12:26.499711Z",
          "shell.execute_reply": "2024-05-06T15:12:26.498785Z",
          "shell.execute_reply.started": "2024-05-06T15:12:26.447135Z"
        },
        "id": "Ir95qCO-4_N7",
        "outputId": "8003182f-1723-4cb1-8a28-9fa1dec60974",
        "trusted": true
      },
      "outputs": [],
      "source": [
        "LAMBDA_CLASS   = 1\n",
        "loss_class  = calc_loss_class(true_box_conf,LAMBDA_CLASS,\n",
        "                                 true_box_class,pred_box_class)\n",
        "print(\"*\"*30 + \"\\nouput\\n\" + \"*\"*30)\n",
        "print(\"loss_class = {:4.3f}\".format(loss_class))"
      ]
    },
    {
      "cell_type": "code",
      "execution_count": null,
      "metadata": {
        "execution": {
          "iopub.execute_input": "2024-05-06T15:12:26.506495Z",
          "iopub.status.busy": "2024-05-06T15:12:26.506206Z",
          "iopub.status.idle": "2024-05-06T15:12:26.516560Z",
          "shell.execute_reply": "2024-05-06T15:12:26.515557Z",
          "shell.execute_reply.started": "2024-05-06T15:12:26.506471Z"
        },
        "id": "iz4E5A1V5QI3",
        "trusted": true
      },
      "outputs": [],
      "source": [
        "def get_intersect_area(true_xy,true_wh,\n",
        "                       pred_xy,pred_wh):\n",
        "    '''\n",
        "    == INPUT ==\n",
        "    true_xy,pred_xy, true_wh and pred_wh must have the same shape length\n",
        "\n",
        "    p1 : pred_mins = (px1,py1)\n",
        "    p2 : pred_maxs = (px2,py2)\n",
        "    t1 : true_mins = (tx1,ty1)\n",
        "    t2 : true_maxs = (tx2,ty2)\n",
        "                 p1______________________\n",
        "                 |      t1___________   |\n",
        "                 |       |           |  |\n",
        "                 |_______|___________|__|p2\n",
        "                         |           |rmax\n",
        "                         |___________|\n",
        "                                      t2\n",
        "    intersect_mins : rmin = t1  = (tx1,ty1)\n",
        "    intersect_maxs : rmax = (rmaxx,rmaxy)\n",
        "    intersect_wh   : (rmaxx - tx1, rmaxy - ty1)\n",
        "\n",
        "    '''\n",
        "    true_wh_half = true_wh / 2.\n",
        "    true_mins    = true_xy - true_wh_half\n",
        "    true_maxes   = true_xy + true_wh_half\n",
        "\n",
        "    pred_wh_half = pred_wh / 2.\n",
        "    pred_mins    = pred_xy - pred_wh_half\n",
        "    pred_maxes   = pred_xy + pred_wh_half\n",
        "\n",
        "    intersect_mins  = tf.maximum(pred_mins,  true_mins)\n",
        "    intersect_maxes = tf.minimum(pred_maxes, true_maxes)\n",
        "    intersect_wh    = tf.maximum(intersect_maxes - intersect_mins, 0.)\n",
        "    intersect_areas = intersect_wh[..., 0] * intersect_wh[..., 1]\n",
        "\n",
        "    true_areas = true_wh[..., 0] * true_wh[..., 1]\n",
        "    pred_areas = pred_wh[..., 0] * pred_wh[..., 1]\n",
        "\n",
        "    union_areas = pred_areas + true_areas - intersect_areas\n",
        "    iou_scores  = tf.truediv(intersect_areas, union_areas)\n",
        "    return(iou_scores)\n",
        "\n",
        "def calc_IOU_pred_true_assigned(true_box_conf,\n",
        "                                true_box_xy, true_box_wh,\n",
        "                                pred_box_xy,  pred_box_wh):\n",
        "    '''\n",
        "    == input ==\n",
        "\n",
        "    true_box_conf : tensor of shape (N batch, N grid h, N grid w, N anchor )\n",
        "    true_box_xy   : tensor of shape (N batch, N grid h, N grid w, N anchor , 2)\n",
        "    true_box_wh   : tensor of shape (N batch, N grid h, N grid w, N anchor , 2)\n",
        "    pred_box_xy   : tensor of shape (N batch, N grid h, N grid w, N anchor , 2)\n",
        "    pred_box_wh   : tensor of shape (N batch, N grid h, N grid w, N anchor , 2)\n",
        "\n",
        "    == output ==\n",
        "\n",
        "    true_box_conf : tensor of shape (N batch, N grid h, N grid w, N anchor)\n",
        "\n",
        "    true_box_conf value depends on the predicted values\n",
        "    true_box_conf = IOU_{true,pred} if objecte exist in this anchor else 0\n",
        "    '''\n",
        "    iou_scores        =  get_intersect_area(true_box_xy,true_box_wh,\n",
        "                                            pred_box_xy,pred_box_wh)\n",
        "    true_box_conf_IOU = iou_scores * true_box_conf\n",
        "    return(true_box_conf_IOU)"
      ]
    },
    {
      "cell_type": "code",
      "execution_count": null,
      "metadata": {
        "colab": {
          "base_uri": "https://localhost:8080/",
          "height": 1000
        },
        "execution": {
          "iopub.execute_input": "2024-05-06T15:12:26.518105Z",
          "iopub.status.busy": "2024-05-06T15:12:26.517767Z",
          "iopub.status.idle": "2024-05-06T15:12:27.469049Z",
          "shell.execute_reply": "2024-05-06T15:12:27.468111Z",
          "shell.execute_reply.started": "2024-05-06T15:12:26.518058Z"
        },
        "id": "Arl9KPpi5XNp",
        "outputId": "f5f79e1c-bb86-4b41-ee55-bf311a6edf83",
        "trusted": true
      },
      "outputs": [],
      "source": [
        "true_box_conf_IOU = calc_IOU_pred_true_assigned(\n",
        "                            true_box_conf,\n",
        "                            true_box_xy, true_box_wh,\n",
        "                            pred_box_xy,  pred_box_wh)\n",
        "\n",
        "print(\"true_box_conf_IOU.shape = {}\".format(true_box_conf_IOU.shape))\n"
      ]
    },
    {
      "cell_type": "code",
      "execution_count": null,
      "metadata": {
        "execution": {
          "iopub.execute_input": "2024-05-06T15:12:27.470361Z",
          "iopub.status.busy": "2024-05-06T15:12:27.470059Z",
          "iopub.status.idle": "2024-05-06T15:12:27.477473Z",
          "shell.execute_reply": "2024-05-06T15:12:27.476525Z",
          "shell.execute_reply.started": "2024-05-06T15:12:27.470337Z"
        },
        "id": "hGXfHdPG5nsr",
        "trusted": true
      },
      "outputs": [],
      "source": [
        "def calc_IOU_pred_true_best(pred_box_xy,pred_box_wh,true_boxes):\n",
        "    '''\n",
        "    == input ==\n",
        "    pred_box_xy : tensor of shape (N batch, N grid h, N grid w, N anchor, 2)\n",
        "    pred_box_wh : tensor of shape (N batch, N grid h, N grid w, N anchor, 2)\n",
        "    true_boxes  : tensor of shape (N batch, N grid h, N grid w, N anchor, 2)\n",
        "\n",
        "    == output ==\n",
        "\n",
        "    best_ious\n",
        "\n",
        "    for each iframe,\n",
        "        best_ious[iframe,igridy,igridx,ianchor] contains\n",
        "\n",
        "        the IOU of the object that is most likely included (or best fitted)\n",
        "        within the bounded box recorded in (grid_cell, anchor) pair\n",
        "\n",
        "        NOTE: a same object may be contained in multiple (grid_cell, anchor) pair\n",
        "              from best_ious, you cannot tell how may actual objects are captured as the \"best\" object\n",
        "    '''\n",
        "    true_xy = true_boxes[..., 0:2]           # (N batch, 1, 1, 1, TRUE_BOX_BUFFER, 2)\n",
        "    true_wh = true_boxes[..., 2:4]           # (N batch, 1, 1, 1, TRUE_BOX_BUFFER, 2)\n",
        "\n",
        "    pred_xy = tf.expand_dims(pred_box_xy, 4) # (N batch, N grid_h, N grid_w, N anchor, 1, 2)\n",
        "    pred_wh = tf.expand_dims(pred_box_wh, 4) # (N batch, N grid_h, N grid_w, N anchor, 1, 2)\n",
        "\n",
        "    iou_scores  =  get_intersect_area(true_xy,\n",
        "                                      true_wh,\n",
        "                                      pred_xy,\n",
        "                                      pred_wh) # (N batch, N grid_h, N grid_w, N anchor, 50)\n",
        "\n",
        "    best_ious = tf.reduce_max(iou_scores, axis=4) # (N batch, N grid_h, N grid_w, N anchor)\n",
        "    return(best_ious)"
      ]
    },
    {
      "cell_type": "code",
      "execution_count": null,
      "metadata": {
        "collapsed": true,
        "execution": {
          "iopub.execute_input": "2024-05-06T15:12:27.478870Z",
          "iopub.status.busy": "2024-05-06T15:12:27.478578Z",
          "iopub.status.idle": "2024-05-06T15:12:27.498533Z",
          "shell.execute_reply": "2024-05-06T15:12:27.497704Z",
          "shell.execute_reply.started": "2024-05-06T15:12:27.478846Z"
        },
        "id": "Otk_o0U25tTd",
        "outputId": "4c4ed256-4a8d-41df-8840-b0a86eb23741",
        "trusted": true
      },
      "outputs": [],
      "source": [
        "true_boxes = tf.constant(b_batch,dtype=\"float32\")\n",
        "best_ious = calc_IOU_pred_true_best(pred_box_xy,\n",
        "                                       pred_box_wh,\n",
        "                                       true_boxes)\n",
        "print(\"best_ious.shape = {}\".format(best_ious.shape))\n"
      ]
    },
    {
      "cell_type": "code",
      "execution_count": null,
      "metadata": {
        "execution": {
          "iopub.execute_input": "2024-05-06T15:12:27.500002Z",
          "iopub.status.busy": "2024-05-06T15:12:27.499656Z",
          "iopub.status.idle": "2024-05-06T15:12:27.506395Z",
          "shell.execute_reply": "2024-05-06T15:12:27.505424Z",
          "shell.execute_reply.started": "2024-05-06T15:12:27.499971Z"
        },
        "id": "AAENRARf539-",
        "trusted": true
      },
      "outputs": [],
      "source": [
        "def get_conf_mask(best_ious, true_box_conf, true_box_conf_IOU,LAMBDA_NO_OBJECT, LAMBDA_OBJECT):\n",
        "    '''\n",
        "    == input ==\n",
        "\n",
        "    best_ious           : tensor of shape (Nbatch, N grid h, N grid w, N anchor)\n",
        "    true_box_conf       : tensor of shape (Nbatch, N grid h, N grid w, N anchor)\n",
        "    true_box_conf_IOU   : tensor of shape (Nbatch, N grid h, N grid w, N anchor)\n",
        "    LAMBDA_NO_OBJECT    : 1.0\n",
        "    LAMBDA_OBJECT       : 5.0\n",
        "\n",
        "    == output ==\n",
        "    conf_mask : tensor of shape (Nbatch, N grid h, N grid w, N anchor)\n",
        "\n",
        "    conf_mask[iframe, igridy, igridx, ianchor] = 0\n",
        "               when there is no object assigned in (grid cell, anchor) pair and the region seems useless i.e.\n",
        "               y_true[iframe,igridx,igridy,4] = 0 \"and\" the predicted region has no object that has IoU > 0.6\n",
        "\n",
        "    conf_mask[iframe, igridy, igridx, ianchor] =  NO_OBJECT_SCALE\n",
        "               when there is no object assigned in (grid cell, anchor) pair but region seems to include some object\n",
        "               y_true[iframe,igridx,igridy,4] = 0 \"and\" the predicted region has some object that has IoU > 0.6\n",
        "\n",
        "    conf_mask[iframe, igridy, igridx, ianchor] =  OBJECT_SCALE\n",
        "              when there is an object in (grid cell, anchor) pair\n",
        "    '''\n",
        "\n",
        "    conf_mask = tf.cast(best_ious < 0.6, tf.float32) * (1 - true_box_conf) * LAMBDA_NO_OBJECT\n",
        "    # penalize the confidence of the boxes, which are reponsible for corresponding ground truth box\n",
        "    conf_mask = conf_mask + true_box_conf_IOU * LAMBDA_OBJECT\n",
        "    return(conf_mask)"
      ]
    },
    {
      "cell_type": "code",
      "execution_count": null,
      "metadata": {
        "execution": {
          "iopub.execute_input": "2024-05-06T15:12:27.507641Z",
          "iopub.status.busy": "2024-05-06T15:12:27.507372Z",
          "iopub.status.idle": "2024-05-06T15:12:27.522757Z",
          "shell.execute_reply": "2024-05-06T15:12:27.521861Z",
          "shell.execute_reply.started": "2024-05-06T15:12:27.507618Z"
        },
        "id": "ZGugeR9655xb",
        "outputId": "cff478fa-1688-4330-e0df-7ab9e166e1ce",
        "trusted": true
      },
      "outputs": [],
      "source": [
        "conf_mask = get_conf_mask(best_ious,\n",
        "                             true_box_conf,\n",
        "                             true_box_conf_IOU,\n",
        "                             LAMBDA_NO_OBJECT,\n",
        "                             LAMBDA_OBJECT)\n",
        "print(\"*\"*30 + \"\\ninput\\n\" + \"*\"*30)\n",
        "print(\"conf_mask shape = {}\".format(conf_mask.shape))"
      ]
    },
    {
      "cell_type": "code",
      "execution_count": null,
      "metadata": {
        "execution": {
          "iopub.execute_input": "2024-05-06T15:12:27.524498Z",
          "iopub.status.busy": "2024-05-06T15:12:27.524099Z",
          "iopub.status.idle": "2024-05-06T15:12:27.532578Z",
          "shell.execute_reply": "2024-05-06T15:12:27.531689Z",
          "shell.execute_reply.started": "2024-05-06T15:12:27.524467Z"
        },
        "id": "Lt5lhZlv6KOb",
        "trusted": true
      },
      "outputs": [],
      "source": [
        "def calc_loss_conf(conf_mask,true_box_conf_IOU, pred_box_conf):\n",
        "    '''\n",
        "    == input ==\n",
        "\n",
        "    conf_mask         : tensor of shape (Nbatch, N grid h, N grid w, N anchor)\n",
        "    true_box_conf_IOU : tensor of shape (Nbatch, N grid h, N grid w, N anchor)\n",
        "    pred_box_conf     : tensor of shape (Nbatch, N grid h, N grid w, N anchor)\n",
        "    '''\n",
        "    # the number of (grid cell, anchor) pair that has an assigned object or\n",
        "    # that has no assigned object but some objects may be in bounding box.\n",
        "    # N conf\n",
        "    nb_conf_box  = tf.reduce_sum(tf.cast(conf_mask  > 0.0, tf.float32))\n",
        "    loss_conf    = tf.reduce_sum(tf.square(true_box_conf_IOU-pred_box_conf) * conf_mask)  / (nb_conf_box  + 1e-6) / 2.\n",
        "    return(loss_conf)"
      ]
    },
    {
      "cell_type": "code",
      "execution_count": null,
      "metadata": {
        "execution": {
          "iopub.execute_input": "2024-05-06T15:12:27.533801Z",
          "iopub.status.busy": "2024-05-06T15:12:27.533534Z",
          "iopub.status.idle": "2024-05-06T15:12:27.543594Z",
          "shell.execute_reply": "2024-05-06T15:12:27.542687Z",
          "shell.execute_reply.started": "2024-05-06T15:12:27.533778Z"
        },
        "id": "E_O03Uc36Phd",
        "outputId": "ae25e57e-e2f8-44f9-ee75-534f5c712fe0",
        "trusted": true
      },
      "outputs": [],
      "source": [
        "loss_conf = calc_loss_conf(conf_mask,true_box_conf_IOU, pred_box_conf)\n",
        "\n",
        "print(\"*\"*30 + \"\\noutput\\n\" + \"*\"*30)\n",
        "print(\"loss_conf = {:5.4f}\".format(loss_conf))"
      ]
    },
    {
      "cell_type": "code",
      "execution_count": null,
      "metadata": {
        "execution": {
          "iopub.execute_input": "2024-05-06T15:12:27.545174Z",
          "iopub.status.busy": "2024-05-06T15:12:27.544885Z",
          "iopub.status.idle": "2024-05-06T15:12:27.554601Z",
          "shell.execute_reply": "2024-05-06T15:12:27.553755Z",
          "shell.execute_reply.started": "2024-05-06T15:12:27.545152Z"
        },
        "id": "YgDQabe86bmY",
        "trusted": true
      },
      "outputs": [],
      "source": [
        "def custom_loss(y_true, y_pred):\n",
        "    '''\n",
        "    y_true : (N batch, N grid h, N grid w, N anchor, 4 + 1 + N classes)\n",
        "    y_true[irow, i_gridh, i_gridw, i_anchor, :4] = center_x, center_y, w, h\n",
        "\n",
        "        center_x : The x coordinate center of the bounding box.\n",
        "                   Rescaled to range between 0 and N gird  w (e.g., ranging between [0,13)\n",
        "        center_y : The y coordinate center of the bounding box.\n",
        "                   Rescaled to range between 0 and N gird  h (e.g., ranging between [0,13)\n",
        "        w        : The width of the bounding box.\n",
        "                   Rescaled to range between 0 and N gird  w (e.g., ranging between [0,13)\n",
        "        h        : The height of the bounding box.\n",
        "                   Rescaled to range between 0 and N gird  h (e.g., ranging between [0,13)\n",
        "\n",
        "    y_true[irow, i_gridh, i_gridw, i_anchor, 4] = ground truth confidence\n",
        "\n",
        "        ground truth confidence is 1 if object exists in this (anchor box, gird cell) pair\n",
        "\n",
        "    y_true[irow, i_gridh, i_gridw, i_anchor, 5 + iclass] = 1 if the object is in category  else 0\n",
        "\n",
        "    '''\n",
        "    total_recall = tf.Variable(0.)\n",
        "\n",
        "    # Step 1: Adjust prediction output\n",
        "    cell_grid   = get_cell_grid(GRID_W,GRID_H,BATCH_SIZE,BOX)\n",
        "    pred_box_xy, pred_box_wh, pred_box_conf, pred_box_class = adjust_scale_prediction(y_pred,cell_grid,ANCHORS)\n",
        "    # Step 2: Extract ground truth output\n",
        "    true_box_xy, true_box_wh, true_box_conf, true_box_class = extract_ground_truth(y_true)\n",
        "    # Step 3: Calculate loss for the bounding box parameters\n",
        "    loss_xywh, coord_mask = calc_loss_xywh(true_box_conf,LAMBDA_COORD,\n",
        "                                           true_box_xy, pred_box_xy,true_box_wh,pred_box_wh)\n",
        "    # Step 4: Calculate loss for the class probabilities\n",
        "    loss_class  = calc_loss_class(true_box_conf,LAMBDA_CLASS,\n",
        "                                   true_box_class,pred_box_class)\n",
        "    # Step 5: For each (grid cell, anchor) pair,\n",
        "    #         calculate the IoU between predicted and ground truth bounding box\n",
        "    true_box_conf_IOU = calc_IOU_pred_true_assigned(true_box_conf,\n",
        "                                                    true_box_xy, true_box_wh,\n",
        "                                                    pred_box_xy, pred_box_wh)\n",
        "    # Step 6: For each predicted bounded box from (grid cell, anchor box),\n",
        "    #         calculate the best IOU, regardless of the ground truth anchor box that each object gets assigned.\n",
        "    best_ious = calc_IOU_pred_true_best(pred_box_xy,pred_box_wh,true_boxes)\n",
        "    # Step 7: For each grid cell, calculate the L_{i,j}^{noobj}\n",
        "    conf_mask = get_conf_mask(best_ious, true_box_conf, true_box_conf_IOU,LAMBDA_NO_OBJECT, LAMBDA_OBJECT)\n",
        "    # Step 8: Calculate loss for the confidence\n",
        "    loss_conf = calc_loss_conf(conf_mask,true_box_conf_IOU, pred_box_conf)\n",
        "\n",
        "\n",
        "    loss = loss_xywh + loss_conf + loss_class\n",
        "\n",
        "\n",
        "\n",
        "    return loss\n"
      ]
    },
    {
      "cell_type": "code",
      "execution_count": null,
      "metadata": {
        "colab": {
          "base_uri": "https://localhost:8080/",
          "height": 51
        },
        "execution": {
          "iopub.execute_input": "2024-05-06T15:12:27.557401Z",
          "iopub.status.busy": "2024-05-06T15:12:27.556850Z",
          "iopub.status.idle": "2024-05-06T15:12:27.596953Z",
          "shell.execute_reply": "2024-05-06T15:12:27.596103Z",
          "shell.execute_reply.started": "2024-05-06T15:12:27.557370Z"
        },
        "id": "hxxRPAH36e6U",
        "outputId": "ceab8d77-1a20-46d8-c24e-821922cf66f7",
        "trusted": true
      },
      "outputs": [],
      "source": [
        "print(y_batch.dtype, y_pred.dtype)\n",
        "true_boxes = tf.Variable(np.zeros_like(b_batch), dtype=\"float32\")\n",
        "loss = custom_loss(y_batch.astype('float32'), y_pred.astype('float32'))\n",
        "print('loss', loss)"
      ]
    },
    {
      "cell_type": "markdown",
      "metadata": {
        "id": "zlwmFdWy5r1h"
      },
      "source": [
        "### Compile the model\n",
        "\n"
      ]
    },
    {
      "cell_type": "code",
      "execution_count": null,
      "metadata": {
        "execution": {
          "iopub.execute_input": "2024-05-06T15:12:27.598218Z",
          "iopub.status.busy": "2024-05-06T15:12:27.597953Z",
          "iopub.status.idle": "2024-05-06T15:12:27.613660Z",
          "shell.execute_reply": "2024-05-06T15:12:27.612917Z",
          "shell.execute_reply.started": "2024-05-06T15:12:27.598195Z"
        },
        "id": "sDOQ5IvFLxDD",
        "trusted": true
      },
      "outputs": [],
      "source": [
        "from tensorflow import keras\n",
        "\n",
        "from tensorflow.keras.callbacks import EarlyStopping, ModelCheckpoint\n",
        "from tensorflow.keras.optimizers import SGD, Adam, RMSprop\n",
        "\n",
        "\n",
        "\n",
        "\n",
        "generator_config['BATCH_SIZE'] = BATCH_SIZE\n",
        "\n",
        "early_stop = EarlyStopping(monitor='loss',\n",
        "                           min_delta=0.001,\n",
        "                           patience=10,\n",
        "                           mode='min',\n",
        "                           verbose=1)\n",
        "\n",
        "\n",
        "optimizer = Adam(learning_rate=0.5e-4, beta_1=0.9, beta_2=0.999, epsilon=1e-08)\n",
        "model.compile(loss=custom_loss ,optimizer=optimizer)"
      ]
    },
    {
      "cell_type": "markdown",
      "metadata": {
        "id": "PlPF3nyX5yNu"
      },
      "source": [
        "### Train the model\n",
        "\n"
      ]
    },
    {
      "cell_type": "code",
      "execution_count": null,
      "metadata": {
        "id": "yRIPOFLiVKZL"
      },
      "outputs": [],
      "source": [
        "# model = load_model(\"Group10_yoloV2_Voc2012.h5\")"
      ]
    },
    {
      "cell_type": "code",
      "execution_count": null,
      "metadata": {
        "colab": {
          "base_uri": "https://localhost:8080/",
          "height": 799
        },
        "execution": {
          "iopub.execute_input": "2024-05-06T16:30:21.731422Z",
          "iopub.status.busy": "2024-05-06T16:30:21.730534Z"
        },
        "id": "9qqi3Vt_LzbC",
        "outputId": "a2315af3-e1bf-471b-f11a-a0e1ea5810d4",
        "trusted": true
      },
      "outputs": [],
      "source": [
        "tf.config.experimental_run_functions_eagerly(True)\n",
        "\n",
        "model.fit(train_batch_generator,\n",
        "          steps_per_epoch  = len(train_batch_generator),\n",
        "          epochs=150,\n",
        "          verbose=1,\n",
        "          callbacks=[early_stop],\n",
        "          batch_size = 8)\n",
        "\n"
      ]
    },
    {
      "cell_type": "code",
      "execution_count": null,
      "metadata": {
        "execution": {
          "iopub.execute_input": "2024-05-06T16:29:38.946411Z",
          "iopub.status.busy": "2024-05-06T16:29:38.946125Z",
          "iopub.status.idle": "2024-05-06T16:29:40.238449Z",
          "shell.execute_reply": "2024-05-06T16:29:40.237591Z",
          "shell.execute_reply.started": "2024-05-06T16:29:38.946387Z"
        },
        "id": "W33DHfa2RVVg",
        "trusted": true
      },
      "outputs": [],
      "source": [
        "model.save(\"Group10_yoloV2_Voc2012.h5\")"
      ]
    },
    {
      "cell_type": "markdown",
      "metadata": {
        "id": "KONIqugTNjA-"
      },
      "source": [
        "## Evaluation\n"
      ]
    },
    {
      "cell_type": "code",
      "execution_count": null,
      "metadata": {
        "execution": {
          "iopub.execute_input": "2024-05-06T16:29:40.240137Z",
          "iopub.status.busy": "2024-05-06T16:29:40.239761Z",
          "iopub.status.idle": "2024-05-06T16:29:40.252647Z",
          "shell.execute_reply": "2024-05-06T16:29:40.251832Z",
          "shell.execute_reply.started": "2024-05-06T16:29:40.240104Z"
        },
        "id": "69peWyrhMh3l",
        "trusted": true
      },
      "outputs": [],
      "source": [
        "imageReader = ImageReader(IMAGE_H,IMAGE_W=IMAGE_W, norm=lambda image : image / 255.)\n",
        "out = imageReader.fit(train_image_folder + \"/2007_005430.jpg\")"
      ]
    },
    {
      "cell_type": "code",
      "execution_count": null,
      "metadata": {
        "colab": {
          "base_uri": "https://localhost:8080/",
          "height": 68
        },
        "execution": {
          "iopub.execute_input": "2024-05-06T16:29:40.253856Z",
          "iopub.status.busy": "2024-05-06T16:29:40.253589Z",
          "iopub.status.idle": "2024-05-06T16:29:41.027840Z",
          "shell.execute_reply": "2024-05-06T16:29:41.027047Z",
          "shell.execute_reply.started": "2024-05-06T16:29:40.253828Z"
        },
        "id": "Z5qS5ITVMksm",
        "outputId": "e6b9c3ca-5d0f-4917-b0c2-70083b5d51c7",
        "trusted": true
      },
      "outputs": [],
      "source": [
        "print(out.shape)\n",
        "X_test = np.expand_dims(out,0)\n",
        "print(X_test.shape)\n",
        "dummy_array = np.zeros((1,1,1,1,TRUE_BOX_BUFFER,4))\n",
        "y_pred = model.predict([X_test,dummy_array])\n",
        "print(y_pred.shape)"
      ]
    },
    {
      "cell_type": "markdown",
      "metadata": {
        "id": "kmkPwt8ufghi"
      },
      "source": [
        "Note, that the `y_pred` needs to be scaled up. So we define a class called `OutputRescaler` for it."
      ]
    },
    {
      "cell_type": "code",
      "execution_count": null,
      "metadata": {
        "execution": {
          "iopub.execute_input": "2024-05-06T16:29:41.029237Z",
          "iopub.status.busy": "2024-05-06T16:29:41.028944Z",
          "iopub.status.idle": "2024-05-06T16:29:41.044281Z",
          "shell.execute_reply": "2024-05-06T16:29:41.043283Z",
          "shell.execute_reply.started": "2024-05-06T16:29:41.029211Z"
        },
        "id": "yBcZLSzcMqwI",
        "trusted": true
      },
      "outputs": [],
      "source": [
        "class OutputRescaler(object):\n",
        "    def __init__(self,ANCHORS):\n",
        "        self.ANCHORS = ANCHORS\n",
        "\n",
        "    def _sigmoid(self, x):\n",
        "        return 1. / (1. + np.exp(-x))\n",
        "    def _softmax(self, x, axis=-1, t=-100.):\n",
        "        x = x - np.max(x)\n",
        "\n",
        "        if np.min(x) < t:\n",
        "            x = x/np.min(x)*t\n",
        "\n",
        "        e_x = np.exp(x)\n",
        "        return e_x / e_x.sum(axis, keepdims=True)\n",
        "    def get_shifting_matrix(self,netout):\n",
        "\n",
        "        GRID_H, GRID_W, BOX = netout.shape[:3]\n",
        "        no = netout[...,0]\n",
        "\n",
        "        ANCHORSw = self.ANCHORS[::2]\n",
        "        ANCHORSh = self.ANCHORS[1::2]\n",
        "\n",
        "        mat_GRID_W = np.zeros_like(no)\n",
        "        for igrid_w in range(GRID_W):\n",
        "            mat_GRID_W[:,igrid_w,:] = igrid_w\n",
        "\n",
        "        mat_GRID_H = np.zeros_like(no)\n",
        "        for igrid_h in range(GRID_H):\n",
        "            mat_GRID_H[igrid_h,:,:] = igrid_h\n",
        "\n",
        "        mat_ANCHOR_W = np.zeros_like(no)\n",
        "        for ianchor in range(BOX):\n",
        "            mat_ANCHOR_W[:,:,ianchor] = ANCHORSw[ianchor]\n",
        "\n",
        "        mat_ANCHOR_H = np.zeros_like(no)\n",
        "        for ianchor in range(BOX):\n",
        "            mat_ANCHOR_H[:,:,ianchor] = ANCHORSh[ianchor]\n",
        "        return(mat_GRID_W,mat_GRID_H,mat_ANCHOR_W,mat_ANCHOR_H)\n",
        "\n",
        "    def fit(self, netout):\n",
        "        '''\n",
        "        netout  : np.array of shape (N grid h, N grid w, N anchor, 4 + 1 + N class)\n",
        "\n",
        "        a single image output of model.predict()\n",
        "        '''\n",
        "        GRID_H, GRID_W, BOX = netout.shape[:3]\n",
        "\n",
        "        (mat_GRID_W,\n",
        "         mat_GRID_H,\n",
        "         mat_ANCHOR_W,\n",
        "         mat_ANCHOR_H) = self.get_shifting_matrix(netout)\n",
        "\n",
        "\n",
        "        # bounding box parameters\n",
        "        netout[..., 0]   = (self._sigmoid(netout[..., 0]) + mat_GRID_W)/GRID_W # x      unit: range between 0 and 1\n",
        "        netout[..., 1]   = (self._sigmoid(netout[..., 1]) + mat_GRID_H)/GRID_H # y      unit: range between 0 and 1\n",
        "        netout[..., 2]   = (np.exp(netout[..., 2]) * mat_ANCHOR_W)/GRID_W      # width  unit: range between 0 and 1\n",
        "        netout[..., 3]   = (np.exp(netout[..., 3]) * mat_ANCHOR_H)/GRID_H      # height unit: range between 0 and 1\n",
        "        # rescale the confidence to range 0 and 1\n",
        "        netout[..., 4]   = self._sigmoid(netout[..., 4])\n",
        "        expand_conf      = np.expand_dims(netout[...,4],-1) # (N grid h , N grid w, N anchor , 1)\n",
        "        # rescale the class probability to range between 0 and 1\n",
        "        # Pr(object class = k) = Pr(object exists) * Pr(object class = k |object exists)\n",
        "        #                      = Conf * P^c\n",
        "        netout[..., 5:]  = expand_conf * self._softmax(netout[..., 5:])\n",
        "        # ignore the class probability if it is less than obj_threshold\n",
        "\n",
        "        return(netout)"
      ]
    },
    {
      "cell_type": "markdown",
      "metadata": {
        "id": "ckKAQAmZfptb"
      },
      "source": [
        "Let's try out the `OutputRescaler` class."
      ]
    },
    {
      "cell_type": "code",
      "execution_count": null,
      "metadata": {
        "execution": {
          "iopub.execute_input": "2024-05-06T16:29:41.045702Z",
          "iopub.status.busy": "2024-05-06T16:29:41.045411Z",
          "iopub.status.idle": "2024-05-06T16:29:41.058536Z",
          "shell.execute_reply": "2024-05-06T16:29:41.057681Z",
          "shell.execute_reply.started": "2024-05-06T16:29:41.045679Z"
        },
        "id": "Y8mnmHiXMtRP",
        "trusted": true
      },
      "outputs": [],
      "source": [
        "netout         = y_pred[0]\n",
        "outputRescaler = OutputRescaler(ANCHORS=ANCHORS)\n",
        "netout_scale   = outputRescaler.fit(netout)"
      ]
    },
    {
      "cell_type": "markdown",
      "metadata": {
        "id": "jTxeCJlff5Fd"
      },
      "source": [
        "Also, lets define a method to find bounding boxes with high confidence probability."
      ]
    },
    {
      "cell_type": "code",
      "execution_count": null,
      "metadata": {
        "execution": {
          "iopub.execute_input": "2024-05-06T16:29:41.060427Z",
          "iopub.status.busy": "2024-05-06T16:29:41.060089Z",
          "iopub.status.idle": "2024-05-06T16:29:41.068514Z",
          "shell.execute_reply": "2024-05-06T16:29:41.067531Z",
          "shell.execute_reply.started": "2024-05-06T16:29:41.060397Z"
        },
        "id": "F5Spq-60M38z",
        "trusted": true
      },
      "outputs": [],
      "source": [
        "def find_high_class_probability_bbox(netout_scale, obj_threshold):\n",
        "    GRID_H, GRID_W, BOX = netout_scale.shape[:3]\n",
        "\n",
        "    boxes = []\n",
        "    for row in range(GRID_H):\n",
        "        for col in range(GRID_W):\n",
        "            for b in range(BOX):\n",
        "                # from 4th element onwards are confidence and class classes\n",
        "                classes = netout_scale[row,col,b,5:]\n",
        "\n",
        "                if np.sum(classes) > 0:\n",
        "                    # first 4 elements are x, y, w, and h\n",
        "                    x, y, w, h = netout_scale[row,col,b,:4]\n",
        "                    confidence = netout_scale[row,col,b,4]\n",
        "                    box = BoundBox(x-w/2, y-h/2, x+w/2, y+h/2, confidence, classes)\n",
        "                    if box.get_score() > obj_threshold:\n",
        "                        boxes.append(box)\n",
        "    return(boxes)"
      ]
    },
    {
      "cell_type": "markdown",
      "metadata": {
        "id": "0MSOUJ7GgSUP"
      },
      "source": [
        "Let's try out the above function and see if it works."
      ]
    },
    {
      "cell_type": "code",
      "execution_count": null,
      "metadata": {
        "colab": {
          "base_uri": "https://localhost:8080/",
          "height": 136
        },
        "execution": {
          "iopub.execute_input": "2024-05-06T16:29:41.069866Z",
          "iopub.status.busy": "2024-05-06T16:29:41.069527Z",
          "iopub.status.idle": "2024-05-06T16:29:41.156372Z",
          "shell.execute_reply": "2024-05-06T16:29:41.155303Z",
          "shell.execute_reply.started": "2024-05-06T16:29:41.069833Z"
        },
        "id": "reuD1EiwM63D",
        "outputId": "70e96bc3-2559-45f8-9631-28d5f0217f7b",
        "trusted": true
      },
      "outputs": [],
      "source": [
        "obj_threshold = 0.015\n",
        "boxes_tiny_threshold = find_high_class_probability_bbox(netout_scale,obj_threshold)\n",
        "print(\"obj_threshold={}\".format(obj_threshold))\n",
        "print(\"In total, YOLO can produce GRID_H * GRID_W * BOX = {} bounding boxes \".format( GRID_H * GRID_W * BOX))\n",
        "print(\"I found {} bounding boxes with top class probability > {}\".format(len(boxes_tiny_threshold),obj_threshold))\n",
        "\n",
        "obj_threshold = 0.5\n",
        "boxes = find_high_class_probability_bbox(netout_scale,obj_threshold)\n",
        "print(\"\\nobj_threshold={}\".format(obj_threshold))\n",
        "print(\"In total, YOLO can produce GRID_H * GRID_W * BOX = {} bounding boxes \".format( GRID_H * GRID_W * BOX))\n",
        "print(\"I found {} bounding boxes with top class probability > {}\".format(len(boxes),obj_threshold))"
      ]
    },
    {
      "cell_type": "markdown",
      "metadata": {
        "id": "n1hLNdMngWj3"
      },
      "source": [
        "Also, next we define a function to draw bounding boxes on the image."
      ]
    },
    {
      "cell_type": "code",
      "execution_count": null,
      "metadata": {
        "colab": {
          "base_uri": "https://localhost:8080/",
          "height": 1000
        },
        "collapsed": true,
        "execution": {
          "iopub.execute_input": "2024-05-06T16:29:41.157737Z",
          "iopub.status.busy": "2024-05-06T16:29:41.157422Z",
          "iopub.status.idle": "2024-05-06T16:29:42.618045Z",
          "shell.execute_reply": "2024-05-06T16:29:42.616682Z",
          "shell.execute_reply.started": "2024-05-06T16:29:41.157705Z"
        },
        "id": "h-wjdRO8NAJx",
        "outputId": "d4375eae-d5c2-4490-bf8c-86640d692849",
        "trusted": true
      },
      "outputs": [],
      "source": [
        "import cv2, copy\n",
        "import seaborn as sns\n",
        "def draw_boxes(image, boxes, labels, obj_baseline=0.05,verbose=False):\n",
        "    '''\n",
        "    image : np.array of shape (N height, N width, 3)\n",
        "    '''\n",
        "    def adjust_minmax(c,_max):\n",
        "        if c < 0:\n",
        "            c = 0\n",
        "        if c > _max:\n",
        "            c = _max\n",
        "        return c\n",
        "\n",
        "    image = copy.deepcopy(image)\n",
        "    image_h, image_w, _ = image.shape\n",
        "    score_rescaled  = np.array([box.get_score() for box in boxes])\n",
        "    score_rescaled /= obj_baseline\n",
        "\n",
        "    colors = sns.color_palette(\"husl\", 8)\n",
        "    for sr, box,color in zip(score_rescaled,boxes, colors):\n",
        "        xmin = adjust_minmax(int(box.xmin*image_w),image_w)\n",
        "        ymin = adjust_minmax(int(box.ymin*image_h),image_h)\n",
        "        xmax = adjust_minmax(int(box.xmax*image_w),image_w)\n",
        "        ymax = adjust_minmax(int(box.ymax*image_h),image_h)\n",
        "\n",
        "\n",
        "        text = \"{:10} {:4.3f}\".format(labels[box.label], box.get_score())\n",
        "        if verbose:\n",
        "            print(\"{} xmin={:4.0f},ymin={:4.0f},xmax={:4.0f},ymax={:4.0f}\".format(text,xmin,ymin,xmax,ymax,text))\n",
        "        cv2.rectangle(image,\n",
        "                      pt1=(xmin,ymin),\n",
        "                      pt2=(xmax,ymax),\n",
        "                      color=color,\n",
        "                      thickness=sr)\n",
        "        cv2.putText(img       = image,\n",
        "                    text      = text,\n",
        "                    org       = (xmin+ 13, ymin + 13),\n",
        "                    fontFace  = cv2.FONT_HERSHEY_SIMPLEX,\n",
        "                    fontScale = 1e-3 * image_h,\n",
        "                    color     = (1, 0, 1),\n",
        "                    thickness = 1)\n",
        "\n",
        "    return image\n",
        "\n",
        "\n",
        "print(\"Plot with low object threshold\")\n",
        "ima = draw_boxes(X_test[0],boxes_tiny_threshold,LABELS,verbose=True)\n",
        "figsize = (15,15)\n",
        "plt.figure(figsize=figsize)\n",
        "plt.imshow(ima);\n",
        "plt.title(\"Plot with low object threshold\")\n",
        "plt.show()\n",
        "\n",
        "print(\"Plot with high object threshold\")\n",
        "ima = draw_boxes(X_test[0],boxes,LABELS,verbose=True)\n",
        "figsize = (15,15)\n",
        "plt.figure(figsize=figsize)\n",
        "plt.imshow(ima);\n",
        "plt.title(\"Plot with high object threshold\")\n",
        "plt.show()"
      ]
    },
    {
      "cell_type": "markdown",
      "metadata": {
        "id": "ycIXwwHCgeqQ"
      },
      "source": [
        "### NMS Defined"
      ]
    },
    {
      "cell_type": "code",
      "execution_count": null,
      "metadata": {
        "execution": {
          "iopub.status.busy": "2024-05-06T16:29:42.618779Z",
          "iopub.status.idle": "2024-05-06T16:29:42.619197Z",
          "shell.execute_reply": "2024-05-06T16:29:42.619004Z",
          "shell.execute_reply.started": "2024-05-06T16:29:42.618989Z"
        },
        "id": "a2db5GDPNGZk",
        "trusted": true
      },
      "outputs": [],
      "source": [
        "def nonmax_suppression(boxes,iou_threshold,obj_threshold):\n",
        "    '''\n",
        "    boxes : list containing \"good\" BoundBox of a frame\n",
        "            [BoundBox(),BoundBox(),...]\n",
        "    '''\n",
        "    bestAnchorBoxFinder    = BestAnchorBoxFinder([])\n",
        "\n",
        "    CLASS    = len(boxes[0].classes)\n",
        "    index_boxes = []\n",
        "    # suppress non-maximal boxes\n",
        "    for c in range(CLASS):\n",
        "        # extract class probabilities of the c^th class from multiple bbox\n",
        "        class_probability_from_bbxs = [box.classes[c] for box in boxes]\n",
        "\n",
        "        #sorted_indices[i] contains the i^th largest class probabilities\n",
        "        sorted_indices = list(reversed(np.argsort( class_probability_from_bbxs)))\n",
        "\n",
        "        for i in range(len(sorted_indices)):\n",
        "            index_i = sorted_indices[i]\n",
        "\n",
        "            # if class probability is zero then ignore\n",
        "            if boxes[index_i].classes[c] == 0:\n",
        "                continue\n",
        "            else:\n",
        "                index_boxes.append(index_i)\n",
        "                for j in range(i+1, len(sorted_indices)):\n",
        "                    index_j = sorted_indices[j]\n",
        "\n",
        "                    # check if the selected i^th bounding box has high IOU with any of the remaining bbox\n",
        "                    # if so, the remaining bbox' class probabilities are set to 0.\n",
        "                    bbox_iou = bestAnchorBoxFinder.bbox_iou(boxes[index_i], boxes[index_j])\n",
        "                    if bbox_iou >= iou_threshold:\n",
        "                        classes = boxes[index_j].classes\n",
        "                        classes[c] = 0\n",
        "                        boxes[index_j].set_class(classes)\n",
        "\n",
        "    newboxes = [ boxes[i] for i in index_boxes if boxes[i].get_score() > obj_threshold ]\n",
        "\n",
        "    return newboxes"
      ]
    },
    {
      "cell_type": "markdown",
      "metadata": {
        "id": "el4hlH5XgxNp"
      },
      "source": [
        "Lets use the above function to see if it reduces the number of bounding boxes."
      ]
    },
    {
      "cell_type": "code",
      "execution_count": null,
      "metadata": {
        "execution": {
          "iopub.status.busy": "2024-05-06T16:29:42.620594Z",
          "iopub.status.idle": "2024-05-06T16:29:42.620940Z",
          "shell.execute_reply": "2024-05-06T16:29:42.620782Z",
          "shell.execute_reply.started": "2024-05-06T16:29:42.620768Z"
        },
        "id": "MO61o58uNIpS",
        "trusted": true
      },
      "outputs": [],
      "source": [
        "iou_threshold = 0.01\n",
        "final_boxes = nonmax_suppression(boxes,iou_threshold=iou_threshold,obj_threshold=obj_threshold)\n",
        "print(\"{} final number of boxes\".format(len(final_boxes)))"
      ]
    },
    {
      "cell_type": "code",
      "execution_count": null,
      "metadata": {
        "execution": {
          "iopub.status.busy": "2024-05-06T16:29:42.622332Z",
          "iopub.status.idle": "2024-05-06T16:29:42.622662Z",
          "shell.execute_reply": "2024-05-06T16:29:42.622515Z",
          "shell.execute_reply.started": "2024-05-06T16:29:42.622500Z"
        },
        "id": "uGG_EDavNKvA",
        "trusted": true
      },
      "outputs": [],
      "source": [
        "ima = draw_boxes(X_test[0],final_boxes,LABELS,verbose=True)\n",
        "figsize = (15,15)\n",
        "plt.figure(figsize=figsize)\n",
        "plt.imshow(ima);\n",
        "plt.show()"
      ]
    },
    {
      "cell_type": "markdown",
      "metadata": {
        "id": "aVjwuVLCg2jv"
      },
      "source": [
        "### Testing"
      ]
    },
    {
      "cell_type": "code",
      "execution_count": null,
      "metadata": {
        "execution": {
          "iopub.status.busy": "2024-05-06T16:29:42.624482Z",
          "iopub.status.idle": "2024-05-06T16:29:42.624788Z",
          "shell.execute_reply": "2024-05-06T16:29:42.624649Z",
          "shell.execute_reply.started": "2024-05-06T16:29:42.624636Z"
        },
        "id": "b0fPpxoZNNu7",
        "trusted": true
      },
      "outputs": [],
      "source": [
        "np.random.seed(1)\n",
        "Nsample   = 2\n",
        "image_nms = list(np.random.choice(os.listdir(train_image_folder),Nsample))"
      ]
    },
    {
      "cell_type": "code",
      "execution_count": null,
      "metadata": {
        "execution": {
          "iopub.status.busy": "2024-05-06T16:29:42.625949Z",
          "iopub.status.idle": "2024-05-06T16:29:42.626348Z",
          "shell.execute_reply": "2024-05-06T16:29:42.626164Z",
          "shell.execute_reply.started": "2024-05-06T16:29:42.626148Z"
        },
        "id": "5tB3XIF2NRqH",
        "trusted": true
      },
      "outputs": [],
      "source": [
        "outputRescaler = OutputRescaler(ANCHORS=ANCHORS)\n",
        "imageReader    = ImageReader(IMAGE_H,IMAGE_W=IMAGE_W, norm=lambda image : image / 255.)\n",
        "X_test         = []\n",
        "for img_nm in image_nms:\n",
        "    _path    = os.path.join(train_image_folder,img_nm)\n",
        "    out      = imageReader.fit(_path)\n",
        "    X_test.append(out)\n",
        "\n",
        "X_test = np.array(X_test)\n",
        "\n",
        "## model\n",
        "dummy_array    = np.zeros((len(X_test),1,1,1,TRUE_BOX_BUFFER,4))\n",
        "y_pred         = model.predict([X_test,dummy_array])\n",
        "\n",
        "for iframe in range(len(y_pred)):\n",
        "        netout         = y_pred[iframe]\n",
        "        netout_scale   = outputRescaler.fit(netout)\n",
        "        boxes          = find_high_class_probability_bbox(netout_scale,obj_threshold)\n",
        "        if len(boxes) > 0:\n",
        "            final_boxes    = nonmax_suppression(boxes,\n",
        "                                                iou_threshold=iou_threshold,\n",
        "                                                obj_threshold=obj_threshold)\n",
        "            ima = draw_boxes(X_test[iframe],final_boxes,LABELS,verbose=True)\n",
        "            plt.figure(figsize=figsize)\n",
        "            plt.imshow(ima);\n",
        "            plt.show()"
      ]
    },
    {
      "cell_type": "markdown",
      "metadata": {
        "id": "rxmdBXaE59az"
      },
      "source": [
        "## Conclusion\n",
        "\n",
        "In conclusion, the YOLOv2 model we created from scratch using TensorFlow has worked out rather well overall. It has, nevertheless, had some issues identifying small-scale objects. This problem stems from the absence of a scaling feature that may improve the model's capacity to identify things at a smaller scale by adjusting the image to different sizes.\n",
        "\n",
        "The model worked well on items in the VOC dataset when tested in real time. Given that the VOC2012 dataset was used to train the model, this is expected. If adequate resources are available, we are thinking about training the model using the COCO dataset for enhanced detection capabilities.\n",
        "\n",
        "This project is a great way to learn how to approach object detection issues and acquire knowledge of the YOLOv2 architecture."
      ]
    }
  ],
  "metadata": {
    "accelerator": "GPU",
    "colab": {
      "machine_shape": "hm",
      "provenance": [],
      "toc_visible": true
    },
    "kaggle": {
      "accelerator": "gpu",
      "dataSources": [],
      "dockerImageVersionId": 30698,
      "isGpuEnabled": true,
      "isInternetEnabled": true,
      "language": "python",
      "sourceType": "notebook"
    },
    "kernelspec": {
      "display_name": "Python 3",
      "language": "python",
      "name": "python3"
    },
    "language_info": {
      "codemirror_mode": {
        "name": "ipython",
        "version": 3
      },
      "file_extension": ".py",
      "mimetype": "text/x-python",
      "name": "python",
      "nbconvert_exporter": "python",
      "pygments_lexer": "ipython3",
      "version": "3.10.13"
    }
  },
  "nbformat": 4,
  "nbformat_minor": 0
}
